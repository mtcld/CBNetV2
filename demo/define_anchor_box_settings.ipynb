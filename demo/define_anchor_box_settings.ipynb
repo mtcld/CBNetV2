{
 "cells": [
  {
   "cell_type": "code",
   "execution_count": 19,
   "id": "158a33c4",
   "metadata": {},
   "outputs": [],
   "source": [
    "import json\n",
    "import pandas as pd\n",
    "import matplotlib.pyplot as plt\n",
    "import os\n",
    "import cv2\n",
    "import numpy as np"
   ]
  },
  {
   "cell_type": "code",
   "execution_count": 37,
   "id": "ebb5e799",
   "metadata": {},
   "outputs": [
    {
     "name": "stdout",
     "output_type": "stream",
     "text": [
      "23473 114285\n"
     ]
    }
   ],
   "source": [
    "scratch_data = json.load(open('/mmdetection/data/scratch/annotations/clean_old_scratch.json'))\n",
    "print(len(scratch_data['images']), len(scratch_data['annotations']))"
   ]
  },
  {
   "cell_type": "code",
   "execution_count": 6,
   "id": "3dd4b420",
   "metadata": {
    "scrolled": true
   },
   "outputs": [
    {
     "name": "stdout",
     "output_type": "stream",
     "text": [
      "{'id': 2021, 'license': 4, 'coco_url': 'coco.org', 'flickr_url': 'flickr.org', 'scalabel_url': 'https://s3.amazonaws.com/mc-imt/vehicle/2019Y7149/vehicle_additional_docs/21749/medium/15559750008971833159462424792505.jpg', 'width': 700, 'height': 525, 'file_name': 'https:__s3.amazonaws.com_mc-imt_vehicle_2019Y7149_vehicle_additional_docs_21749_medium_15559750008971833159462424792505.jpg', 'date_captured': '2013-12-15 02:41:52'}\n",
      "{'id': 48, 'category_id': 0, 'iscrowd': 0, 'segmentation': [[247.23426807813627, 552.5388470287706, 241.8845312109123, 567.4310481580877, 245.70577183035797, 573.9225204452259, 269.3974636709213, 576.5954796222829, 287.7394186442605, 569.3403047131284, 298.43889237870843, 572.7769665122017, 301.495884874265, 578.8865874883319, 291.94278332565085, 587.6691676415189, 267.1047192992539, 593.778788617649, 264.8119749275864, 587.6691676415189, 254.87674931702762, 587.6691676415189, 249.90913651174824, 591.8695320626083, 240.35603496313396, 598.7428556607549, 228.51018904285232, 602.9432200818442, 227.74594091896319, 625.090596120316, 252.20188088341564, 622.4176369432593, 262.1371064939744, 618.5991238331777, 285.0645502106486, 613.635056790072, 268.2510914850875, 624.7087448093077, 262.1371064939744, 631.2002170964462, 268.6332155470321, 633.8731762735031, 281.2433095912029, 637.6916893835846, 298.82101644065307, 628.1454066083811, 307.60986986537813, 618.2172725221695, 327.09819702455115, 606.7617331919256, 335.1228023253871, 599.506558282771, 342.7652835642786, 594.1606399286572, 352.7005091748374, 588.051018952527, 346.84254718146303, 579.831308173316, 340.3188629084575, 568.6040935865747, 321.47266389755254, 567.5175889491481, 293.5657922852509, 573.6744485612321, 290.66637705280397, 571.1392710739034, 289.94152324469223, 563.5337386119173, 298.2773420379771, 552.306524025176, 303.35131869475924, 540.7171412259593]], 'image_id': 19, 'area': 5668.639068182558, 'bbox': [227.74594091896319, 540.7171412259593, 124.95456825587422, 96.97454815762535], 'bbox_mode': 1}\n"
     ]
    }
   ],
   "source": [
    "print(scratch_data['images'][0])\n",
    "print(scratch_data['annotations'][0])"
   ]
  },
  {
   "cell_type": "code",
   "execution_count": null,
   "id": "08fe14a6",
   "metadata": {},
   "outputs": [],
   "source": [
    "value_list = []\n",
    "\n",
    "for ann in scratch_data['annotations']:\n",
    "    for img in scratch_data['images']:\n",
    "        if img['id'] == ann['image_id']:\n",
    "            img_w = img['width']\n",
    "            img_h = img['height']\n",
    "            break\n",
    "            \n",
    "    value = (ann['id'], ann['image_id'], img_w, img_h, ann['bbox'][2], ann['bbox'][3], ann['bbox'][0], ann['bbox'][1])\n",
    "    value_list.append(value)"
   ]
  },
  {
   "cell_type": "code",
   "execution_count": 9,
   "id": "3d974a5d",
   "metadata": {},
   "outputs": [],
   "source": [
    "    \n",
    "column_names = ['ann_id', 'img_id', 'img_width', 'img_height', 'box_width', 'box_height', 'xmin', 'ymin']\n",
    "box_df = pd.DataFrame(value_list, columns = column_names)\n",
    "\n",
    "box_df.to_csv('./output_data/gt_box_info.csv', index=False)"
   ]
  },
  {
   "cell_type": "code",
   "execution_count": 225,
   "id": "9ff5516e",
   "metadata": {},
   "outputs": [],
   "source": [
    "box_df.to_csv('./output_data/gt_box_info.csv', index=False)"
   ]
  },
  {
   "cell_type": "code",
   "execution_count": 11,
   "id": "29b40234",
   "metadata": {},
   "outputs": [
    {
     "data": {
      "text/html": [
       "<div>\n",
       "<style scoped>\n",
       "    .dataframe tbody tr th:only-of-type {\n",
       "        vertical-align: middle;\n",
       "    }\n",
       "\n",
       "    .dataframe tbody tr th {\n",
       "        vertical-align: top;\n",
       "    }\n",
       "\n",
       "    .dataframe thead th {\n",
       "        text-align: right;\n",
       "    }\n",
       "</style>\n",
       "<table border=\"1\" class=\"dataframe\">\n",
       "  <thead>\n",
       "    <tr style=\"text-align: right;\">\n",
       "      <th></th>\n",
       "      <th>ann_id</th>\n",
       "      <th>img_id</th>\n",
       "      <th>img_width</th>\n",
       "      <th>img_height</th>\n",
       "      <th>box_width</th>\n",
       "      <th>box_height</th>\n",
       "      <th>xmin</th>\n",
       "      <th>ymin</th>\n",
       "    </tr>\n",
       "  </thead>\n",
       "  <tbody>\n",
       "    <tr>\n",
       "      <th>count</th>\n",
       "      <td>114285.000000</td>\n",
       "      <td>114285.000000</td>\n",
       "      <td>114285.000000</td>\n",
       "      <td>114285.000000</td>\n",
       "      <td>114285.000000</td>\n",
       "      <td>114285.000000</td>\n",
       "      <td>114285.000000</td>\n",
       "      <td>114285.000000</td>\n",
       "    </tr>\n",
       "    <tr>\n",
       "      <th>mean</th>\n",
       "      <td>179309.909787</td>\n",
       "      <td>35561.124583</td>\n",
       "      <td>1559.091631</td>\n",
       "      <td>1183.264164</td>\n",
       "      <td>128.426487</td>\n",
       "      <td>64.405903</td>\n",
       "      <td>715.192714</td>\n",
       "      <td>632.011170</td>\n",
       "    </tr>\n",
       "    <tr>\n",
       "      <th>std</th>\n",
       "      <td>74942.384958</td>\n",
       "      <td>14454.881645</td>\n",
       "      <td>1232.582523</td>\n",
       "      <td>891.356810</td>\n",
       "      <td>232.316206</td>\n",
       "      <td>108.998063</td>\n",
       "      <td>705.791882</td>\n",
       "      <td>575.523447</td>\n",
       "    </tr>\n",
       "    <tr>\n",
       "      <th>min</th>\n",
       "      <td>48.000000</td>\n",
       "      <td>19.000000</td>\n",
       "      <td>200.000000</td>\n",
       "      <td>113.000000</td>\n",
       "      <td>1.195392</td>\n",
       "      <td>0.881026</td>\n",
       "      <td>0.000000</td>\n",
       "      <td>0.000000</td>\n",
       "    </tr>\n",
       "    <tr>\n",
       "      <th>25%</th>\n",
       "      <td>133222.000000</td>\n",
       "      <td>27317.000000</td>\n",
       "      <td>700.000000</td>\n",
       "      <td>720.000000</td>\n",
       "      <td>22.749092</td>\n",
       "      <td>13.277973</td>\n",
       "      <td>287.134159</td>\n",
       "      <td>310.912692</td>\n",
       "    </tr>\n",
       "    <tr>\n",
       "      <th>50%</th>\n",
       "      <td>178628.000000</td>\n",
       "      <td>35433.000000</td>\n",
       "      <td>1280.000000</td>\n",
       "      <td>960.000000</td>\n",
       "      <td>54.364641</td>\n",
       "      <td>29.707923</td>\n",
       "      <td>510.892244</td>\n",
       "      <td>461.900441</td>\n",
       "    </tr>\n",
       "    <tr>\n",
       "      <th>75%</th>\n",
       "      <td>220707.000000</td>\n",
       "      <td>42827.000000</td>\n",
       "      <td>1600.000000</td>\n",
       "      <td>1152.000000</td>\n",
       "      <td>134.265829</td>\n",
       "      <td>69.414586</td>\n",
       "      <td>857.205624</td>\n",
       "      <td>690.878746</td>\n",
       "    </tr>\n",
       "    <tr>\n",
       "      <th>max</th>\n",
       "      <td>354496.000000</td>\n",
       "      <td>69306.000000</td>\n",
       "      <td>17510.000000</td>\n",
       "      <td>13132.000000</td>\n",
       "      <td>5151.886665</td>\n",
       "      <td>2547.129282</td>\n",
       "      <td>13248.717517</td>\n",
       "      <td>11777.406340</td>\n",
       "    </tr>\n",
       "  </tbody>\n",
       "</table>\n",
       "</div>"
      ],
      "text/plain": [
       "              ann_id         img_id      img_width     img_height  \\\n",
       "count  114285.000000  114285.000000  114285.000000  114285.000000   \n",
       "mean   179309.909787   35561.124583    1559.091631    1183.264164   \n",
       "std     74942.384958   14454.881645    1232.582523     891.356810   \n",
       "min        48.000000      19.000000     200.000000     113.000000   \n",
       "25%    133222.000000   27317.000000     700.000000     720.000000   \n",
       "50%    178628.000000   35433.000000    1280.000000     960.000000   \n",
       "75%    220707.000000   42827.000000    1600.000000    1152.000000   \n",
       "max    354496.000000   69306.000000   17510.000000   13132.000000   \n",
       "\n",
       "           box_width     box_height           xmin           ymin  \n",
       "count  114285.000000  114285.000000  114285.000000  114285.000000  \n",
       "mean      128.426487      64.405903     715.192714     632.011170  \n",
       "std       232.316206     108.998063     705.791882     575.523447  \n",
       "min         1.195392       0.881026       0.000000       0.000000  \n",
       "25%        22.749092      13.277973     287.134159     310.912692  \n",
       "50%        54.364641      29.707923     510.892244     461.900441  \n",
       "75%       134.265829      69.414586     857.205624     690.878746  \n",
       "max      5151.886665    2547.129282   13248.717517   11777.406340  "
      ]
     },
     "execution_count": 11,
     "metadata": {},
     "output_type": "execute_result"
    }
   ],
   "source": [
    "box_df.describe()"
   ]
  },
  {
   "cell_type": "code",
   "execution_count": 60,
   "id": "0d72f946",
   "metadata": {},
   "outputs": [
    {
     "data": {
      "text/plain": [
       "132.28756555322954"
      ]
     },
     "execution_count": 60,
     "metadata": {},
     "output_type": "execute_result"
    }
   ],
   "source": [
    "import math\n",
    "math.sqrt(17500)"
   ]
  },
  {
   "cell_type": "code",
   "execution_count": 117,
   "id": "eb82fee8",
   "metadata": {},
   "outputs": [
    {
     "name": "stdout",
     "output_type": "stream",
     "text": [
      "        ann_id  img_id  img_width  img_height   box_width  box_height  \\\n",
      "0           48      19        600         800  124.954568   96.974548   \n",
      "1           90      43        700         525   51.724490   54.296118   \n",
      "2           95      47        700         340  172.735602   83.031269   \n",
      "3           96      47        700         340   97.824353   35.234958   \n",
      "4           97      47        700         340  114.098491   22.535913   \n",
      "...        ...     ...        ...         ...         ...         ...   \n",
      "114280  354492   69306        389         800   10.063371   27.731015   \n",
      "114281  354493   69306        389         800   27.686104   21.420991   \n",
      "114282  354494   69306        389         800    6.752708    5.397415   \n",
      "114283  354495   69306        389         800   10.965352   28.532995   \n",
      "114284  354496   69306        389         800    9.803678    8.053712   \n",
      "\n",
      "              xmin        ymin  \n",
      "0       227.745941  540.717141  \n",
      "1       451.317370  231.818974  \n",
      "2       127.159570  148.221716  \n",
      "3       163.138863  283.297906  \n",
      "4       119.774202  273.185341  \n",
      "...            ...         ...  \n",
      "114280   61.841041  195.414461  \n",
      "114281    0.168818  212.691889  \n",
      "114282    0.000000  205.101774  \n",
      "114283  140.380601  273.772277  \n",
      "114284  111.761930  259.677791  \n",
      "\n",
      "[114252 rows x 8 columns]\n",
      "              ann_id         img_id      img_width     img_height  \\\n",
      "count  114252.000000  114252.000000  114252.000000  114252.000000   \n",
      "mean   179304.974241   35560.252101    1554.762718    1180.021628   \n",
      "std     74943.769217   14455.098845    1205.344178     870.195511   \n",
      "min        48.000000      19.000000     200.000000     113.000000   \n",
      "25%    133221.750000   27316.750000     700.000000     720.000000   \n",
      "50%    178616.500000   35430.500000    1280.000000     960.000000   \n",
      "75%    220711.250000   42828.000000    1600.000000    1152.000000   \n",
      "max    354496.000000   69306.000000    5152.000000    4608.000000   \n",
      "\n",
      "           box_width     box_height           xmin           ymin  \n",
      "count  114252.000000  114252.000000  114252.000000  114252.000000  \n",
      "mean      128.218672      64.235145     713.156849     630.035651  \n",
      "std       231.349605     108.112030     693.986657     562.414900  \n",
      "min         1.195392       0.881026       0.000000       0.000000  \n",
      "25%        22.744324      13.272395     287.068723     310.874867  \n",
      "50%        54.346730      29.701657     510.790815     461.824127  \n",
      "75%       134.117647      69.340528     856.869158     690.417003  \n",
      "max      5151.886665    2547.129282    5076.684547    3784.008504  \n"
     ]
    }
   ],
   "source": [
    "box_df = pd.read_csv('./output_data/gt_box_info.csv')\n",
    "box_df = box_df[box_df['img_width']*box_df['img_height']<=0.5e8]\n",
    "print(box_df)\n",
    "print(box_df.describe())"
   ]
  },
  {
   "cell_type": "code",
   "execution_count": 118,
   "id": "f5894715",
   "metadata": {
    "scrolled": false
   },
   "outputs": [
    {
     "name": "stdout",
     "output_type": "stream",
     "text": [
      "        ann_id  img_id  img_width  img_height   box_width  box_height  \\\n",
      "0           48      19        600         800  124.954568   96.974548   \n",
      "1           90      43        700         525   51.724490   54.296118   \n",
      "2           95      47        700         340  172.735602   83.031269   \n",
      "3           96      47        700         340   97.824353   35.234958   \n",
      "4           97      47        700         340  114.098491   22.535913   \n",
      "...        ...     ...        ...         ...         ...         ...   \n",
      "114280  354492   69306        389         800   10.063371   27.731015   \n",
      "114281  354493   69306        389         800   27.686104   21.420991   \n",
      "114282  354494   69306        389         800    6.752708    5.397415   \n",
      "114283  354495   69306        389         800   10.965352   28.532995   \n",
      "114284  354496   69306        389         800    9.803678    8.053712   \n",
      "\n",
      "              xmin        ymin  new_img_w  new_img_h     new_b_w     new_b_h  \\\n",
      "0       227.745941  540.717141        480        640   99.963655   77.579639   \n",
      "1       451.317370  231.818974        640        480   47.290962   49.642165   \n",
      "2       127.159570  148.221716        988        480  243.803963  117.220615   \n",
      "3       163.138863  283.297906        988        480  138.072087   49.743470   \n",
      "4       119.774202  273.185341        988        480  161.041870   31.815406   \n",
      "...            ...         ...        ...        ...         ...         ...   \n",
      "114280   61.841041  195.414461        480        987   12.417528   34.213139   \n",
      "114281    0.168818  212.691889        480        987   34.162802   26.428148   \n",
      "114282    0.000000  205.101774        480        987    8.332391    6.659061   \n",
      "114283  140.380601  273.772277        480        987   13.530511   35.202582   \n",
      "114284  111.761930  259.677791        480        987   12.097083    9.936267   \n",
      "\n",
      "        new_box_ar  new_box_area  \n",
      "0         1.288530   7755.144190  \n",
      "1         0.952637   2347.625745  \n",
      "2         2.079873  28578.850463  \n",
      "3         2.775683   6868.184754  \n",
      "4         5.061757   5123.612496  \n",
      "...            ...           ...  \n",
      "114280    0.362946    424.842609  \n",
      "114281    1.292667    902.859593  \n",
      "114282    1.251286     55.485898  \n",
      "114283    0.384361    476.308925  \n",
      "114284    1.217468    120.199852  \n",
      "\n",
      "[114252 rows x 14 columns]\n"
     ]
    },
    {
     "data": {
      "text/html": [
       "<div>\n",
       "<style scoped>\n",
       "    .dataframe tbody tr th:only-of-type {\n",
       "        vertical-align: middle;\n",
       "    }\n",
       "\n",
       "    .dataframe tbody tr th {\n",
       "        vertical-align: top;\n",
       "    }\n",
       "\n",
       "    .dataframe thead th {\n",
       "        text-align: right;\n",
       "    }\n",
       "</style>\n",
       "<table border=\"1\" class=\"dataframe\">\n",
       "  <thead>\n",
       "    <tr style=\"text-align: right;\">\n",
       "      <th></th>\n",
       "      <th>ann_id</th>\n",
       "      <th>img_id</th>\n",
       "      <th>img_width</th>\n",
       "      <th>img_height</th>\n",
       "      <th>box_width</th>\n",
       "      <th>box_height</th>\n",
       "      <th>xmin</th>\n",
       "      <th>ymin</th>\n",
       "      <th>new_img_w</th>\n",
       "      <th>new_img_h</th>\n",
       "      <th>new_b_w</th>\n",
       "      <th>new_b_h</th>\n",
       "      <th>new_box_ar</th>\n",
       "      <th>new_box_area</th>\n",
       "    </tr>\n",
       "  </thead>\n",
       "  <tbody>\n",
       "    <tr>\n",
       "      <th>count</th>\n",
       "      <td>114252.000000</td>\n",
       "      <td>114252.000000</td>\n",
       "      <td>114252.000000</td>\n",
       "      <td>114252.000000</td>\n",
       "      <td>114252.000000</td>\n",
       "      <td>114252.000000</td>\n",
       "      <td>114252.000000</td>\n",
       "      <td>114252.000000</td>\n",
       "      <td>114252.000000</td>\n",
       "      <td>114252.000000</td>\n",
       "      <td>114252.000000</td>\n",
       "      <td>114252.000000</td>\n",
       "      <td>114252.000000</td>\n",
       "      <td>114252.000000</td>\n",
       "    </tr>\n",
       "    <tr>\n",
       "      <th>mean</th>\n",
       "      <td>179304.974241</td>\n",
       "      <td>35560.252101</td>\n",
       "      <td>1554.762718</td>\n",
       "      <td>1180.021628</td>\n",
       "      <td>128.218672</td>\n",
       "      <td>64.235145</td>\n",
       "      <td>713.156849</td>\n",
       "      <td>630.035651</td>\n",
       "      <td>645.840484</td>\n",
       "      <td>507.472963</td>\n",
       "      <td>57.009267</td>\n",
       "      <td>29.352353</td>\n",
       "      <td>2.774607</td>\n",
       "      <td>3663.112640</td>\n",
       "    </tr>\n",
       "    <tr>\n",
       "      <th>std</th>\n",
       "      <td>74943.769217</td>\n",
       "      <td>14455.098845</td>\n",
       "      <td>1205.344178</td>\n",
       "      <td>870.195511</td>\n",
       "      <td>231.349605</td>\n",
       "      <td>108.112030</td>\n",
       "      <td>693.986657</td>\n",
       "      <td>562.414900</td>\n",
       "      <td>102.140257</td>\n",
       "      <td>74.857113</td>\n",
       "      <td>80.533147</td>\n",
       "      <td>41.041010</td>\n",
       "      <td>3.578430</td>\n",
       "      <td>12037.623057</td>\n",
       "    </tr>\n",
       "    <tr>\n",
       "      <th>min</th>\n",
       "      <td>48.000000</td>\n",
       "      <td>19.000000</td>\n",
       "      <td>200.000000</td>\n",
       "      <td>113.000000</td>\n",
       "      <td>1.195392</td>\n",
       "      <td>0.881026</td>\n",
       "      <td>0.000000</td>\n",
       "      <td>0.000000</td>\n",
       "      <td>472.000000</td>\n",
       "      <td>480.000000</td>\n",
       "      <td>0.914660</td>\n",
       "      <td>0.469394</td>\n",
       "      <td>0.024091</td>\n",
       "      <td>3.713029</td>\n",
       "    </tr>\n",
       "    <tr>\n",
       "      <th>25%</th>\n",
       "      <td>133221.750000</td>\n",
       "      <td>27316.750000</td>\n",
       "      <td>700.000000</td>\n",
       "      <td>720.000000</td>\n",
       "      <td>22.744324</td>\n",
       "      <td>13.272395</td>\n",
       "      <td>287.068723</td>\n",
       "      <td>310.874867</td>\n",
       "      <td>640.000000</td>\n",
       "      <td>480.000000</td>\n",
       "      <td>12.201794</td>\n",
       "      <td>7.187073</td>\n",
       "      <td>1.000000</td>\n",
       "      <td>98.390676</td>\n",
       "    </tr>\n",
       "    <tr>\n",
       "      <th>50%</th>\n",
       "      <td>178616.500000</td>\n",
       "      <td>35430.500000</td>\n",
       "      <td>1280.000000</td>\n",
       "      <td>960.000000</td>\n",
       "      <td>54.346730</td>\n",
       "      <td>29.701657</td>\n",
       "      <td>510.790815</td>\n",
       "      <td>461.824127</td>\n",
       "      <td>640.000000</td>\n",
       "      <td>480.000000</td>\n",
       "      <td>27.525741</td>\n",
       "      <td>15.036130</td>\n",
       "      <td>1.769204</td>\n",
       "      <td>400.936433</td>\n",
       "    </tr>\n",
       "    <tr>\n",
       "      <th>75%</th>\n",
       "      <td>220711.250000</td>\n",
       "      <td>42828.000000</td>\n",
       "      <td>1600.000000</td>\n",
       "      <td>1152.000000</td>\n",
       "      <td>134.117647</td>\n",
       "      <td>69.340528</td>\n",
       "      <td>856.869158</td>\n",
       "      <td>690.417003</td>\n",
       "      <td>640.000000</td>\n",
       "      <td>480.000000</td>\n",
       "      <td>65.327210</td>\n",
       "      <td>33.660798</td>\n",
       "      <td>3.222222</td>\n",
       "      <td>1915.462065</td>\n",
       "    </tr>\n",
       "    <tr>\n",
       "      <th>max</th>\n",
       "      <td>354496.000000</td>\n",
       "      <td>69306.000000</td>\n",
       "      <td>5152.000000</td>\n",
       "      <td>4608.000000</td>\n",
       "      <td>5151.886665</td>\n",
       "      <td>2547.129282</td>\n",
       "      <td>5076.684547</td>\n",
       "      <td>3784.008504</td>\n",
       "      <td>1017.000000</td>\n",
       "      <td>1024.000000</td>\n",
       "      <td>986.588571</td>\n",
       "      <td>677.468490</td>\n",
       "      <td>169.573728</td>\n",
       "      <td>407348.289224</td>\n",
       "    </tr>\n",
       "  </tbody>\n",
       "</table>\n",
       "</div>"
      ],
      "text/plain": [
       "              ann_id         img_id      img_width     img_height  \\\n",
       "count  114252.000000  114252.000000  114252.000000  114252.000000   \n",
       "mean   179304.974241   35560.252101    1554.762718    1180.021628   \n",
       "std     74943.769217   14455.098845    1205.344178     870.195511   \n",
       "min        48.000000      19.000000     200.000000     113.000000   \n",
       "25%    133221.750000   27316.750000     700.000000     720.000000   \n",
       "50%    178616.500000   35430.500000    1280.000000     960.000000   \n",
       "75%    220711.250000   42828.000000    1600.000000    1152.000000   \n",
       "max    354496.000000   69306.000000    5152.000000    4608.000000   \n",
       "\n",
       "           box_width     box_height           xmin           ymin  \\\n",
       "count  114252.000000  114252.000000  114252.000000  114252.000000   \n",
       "mean      128.218672      64.235145     713.156849     630.035651   \n",
       "std       231.349605     108.112030     693.986657     562.414900   \n",
       "min         1.195392       0.881026       0.000000       0.000000   \n",
       "25%        22.744324      13.272395     287.068723     310.874867   \n",
       "50%        54.346730      29.701657     510.790815     461.824127   \n",
       "75%       134.117647      69.340528     856.869158     690.417003   \n",
       "max      5151.886665    2547.129282    5076.684547    3784.008504   \n",
       "\n",
       "           new_img_w      new_img_h        new_b_w        new_b_h  \\\n",
       "count  114252.000000  114252.000000  114252.000000  114252.000000   \n",
       "mean      645.840484     507.472963      57.009267      29.352353   \n",
       "std       102.140257      74.857113      80.533147      41.041010   \n",
       "min       472.000000     480.000000       0.914660       0.469394   \n",
       "25%       640.000000     480.000000      12.201794       7.187073   \n",
       "50%       640.000000     480.000000      27.525741      15.036130   \n",
       "75%       640.000000     480.000000      65.327210      33.660798   \n",
       "max      1017.000000    1024.000000     986.588571     677.468490   \n",
       "\n",
       "          new_box_ar   new_box_area  \n",
       "count  114252.000000  114252.000000  \n",
       "mean        2.774607    3663.112640  \n",
       "std         3.578430   12037.623057  \n",
       "min         0.024091       3.713029  \n",
       "25%         1.000000      98.390676  \n",
       "50%         1.769204     400.936433  \n",
       "75%         3.222222    1915.462065  \n",
       "max       169.573728  407348.289224  "
      ]
     },
     "execution_count": 118,
     "metadata": {},
     "output_type": "execute_result"
    }
   ],
   "source": [
    "min_dimension = 480\n",
    "max_dimension = 1024\n",
    "# function from Tensorflow Object Detection API to resize image\n",
    "def _compute_new_static_size(width, height, min_dimension, max_dimension):\n",
    "    orig_height = height\n",
    "    orig_width = width\n",
    "    orig_min_dim = min(orig_height, orig_width)\n",
    "  \n",
    "    # Calculates the larger of the possible sizes\n",
    "    large_scale_factor = min_dimension / float(orig_min_dim)\n",
    "      # Scaling orig_(height|width) by large_scale_factor will make the smaller\n",
    "      # dimension equal to min_dimension, save for floating point rounding errors.\n",
    "      # For reasonably-sized images, taking the nearest integer will reliably\n",
    "      # eliminate this error.\n",
    "    large_height = int(round(orig_height * large_scale_factor))\n",
    "    large_width = int(round(orig_width * large_scale_factor))\n",
    "    large_size = [large_height, large_width]\n",
    "    if max_dimension:\n",
    "    # Calculates the smaller of the possible sizes, use that if the larger\n",
    "    # is too big.\n",
    "        orig_max_dim = max(orig_height, orig_width)\n",
    "        small_scale_factor = max_dimension / float(orig_max_dim)\n",
    "    # Scaling orig_(height|width) by small_scale_factor will make the larger\n",
    "    # dimension equal to max_dimension, save for floating point rounding\n",
    "    # errors. For reasonably-sized images, taking the nearest integer will\n",
    "    # reliably eliminate this error.\n",
    "        small_height = int(round(orig_height * small_scale_factor))\n",
    "        small_width = int(round(orig_width * small_scale_factor))\n",
    "        small_size = [small_height, small_width]\n",
    "        new_size = large_size\n",
    "    if max(large_size) > max_dimension:\n",
    "        new_size = small_size\n",
    "    else:\n",
    "        new_size = large_size\n",
    "    \n",
    "    return new_size[1], new_size[0]\n",
    "\n",
    "box_df['new_img_w'], box_df['new_img_h'] = np.vectorize(_compute_new_static_size)(box_df['img_width'], box_df['img_height'], min_dimension, max_dimension)\n",
    "box_df['new_b_w'] = box_df['new_img_w']*box_df['box_width']/box_df['img_width']\n",
    "box_df['new_b_h'] = box_df['new_img_h']*box_df['box_height']/box_df['img_height']\n",
    "box_df['new_box_ar'] = box_df['new_b_h']/box_df['new_b_w']\n",
    "box_df['new_box_area'] = box_df['new_b_w']*box_df['new_b_h']\n",
    "print(box_df)\n",
    "box_df.describe()"
   ]
  },
  {
   "cell_type": "code",
   "execution_count": 81,
   "id": "c5886554",
   "metadata": {},
   "outputs": [
    {
     "data": {
      "image/png": "[encoded data removed]",
      "text/plain": [
       "<Figure size 432x288 with 1 Axes>"
      ]
     },
     "metadata": {
      "needs_background": "light"
     },
     "output_type": "display_data"
    }
   ],
   "source": [
    "# aspectRatio = box_df['box_width']/box_df['box_height']\n",
    "# boxArea = (box_df['box_width']*box_df['box_height'])/(box_df['img_width']*box_df['img_height'])\n",
    "# plt.scatter(boxArea, aspectRatio)\n",
    "# plt.xlabel('Box Area')\n",
    "# plt.ylabel('Aspect Ratio')\n",
    "# plt.title('Box area vs Aspect ratio')\n",
    "# plt.show()\n",
    "\n",
    "plt.scatter(box_df['new_b_w'], box_df['new_b_h'])\n",
    "plt.xlabel('box width')\n",
    "plt.ylabel('box height')\n",
    "plt.title('Box width vs box height')\n",
    "plt.show()"
   ]
  },
  {
   "cell_type": "code",
   "execution_count": 119,
   "id": "ca910f15",
   "metadata": {
    "scrolled": false
   },
   "outputs": [
    {
     "data": {
      "image/png": "[encoded data removed]",
      "text/plain": [
       "<Figure size 432x288 with 1 Axes>"
      ]
     },
     "metadata": {
      "needs_background": "light"
     },
     "output_type": "display_data"
    }
   ],
   "source": [
    "# box_df['box_area'] = box_df['new_b_w'] * box_df['new_b_h']\n",
    "# norm_box_area = box_df['box_area']/(box_df['img_height']*box_df['img_width'])\n",
    "plt.scatter(box_df['new_box_area'], box_df['new_box_ar'])\n",
    "plt.xlabel('Box Area')\n",
    "plt.ylabel('Aspect Ratio')\n",
    "plt.title('Box area vs Aspect ratio')\n",
    "plt.show()"
   ]
  },
  {
   "cell_type": "code",
   "execution_count": 120,
   "id": "2c2c1f2a",
   "metadata": {
    "scrolled": false
   },
   "outputs": [
    {
     "data": {
      "image/png": "[encoded data removed]",
      "text/plain": [
       "<Figure size 432x288 with 1 Axes>"
      ]
     },
     "metadata": {
      "needs_background": "light"
     },
     "output_type": "display_data"
    }
   ],
   "source": [
    "aspectRatio = box_df['box_width']/box_df['box_height']\n",
    "boxArea = (box_df['box_width']*box_df['box_height'])\n",
    "plt.scatter(boxArea, aspectRatio)\n",
    "plt.xlabel('Box Area')\n",
    "plt.ylabel('Aspect Ratio')\n",
    "plt.title('Original: Box area vs Aspect ratio')\n",
    "plt.show()"
   ]
  },
  {
   "cell_type": "code",
   "execution_count": 113,
   "id": "4c4fc130",
   "metadata": {},
   "outputs": [],
   "source": [
    "def count_base_size(width, height, input_array=[16,32,64,96,128,196,212,256,512]):\n",
    "    result = {}\n",
    "    for ele in input_array:\n",
    "        result[str(ele)] = 0\n",
    "    result['rest'] = 0\n",
    "    \n",
    "    for w,h in zip(width,height):\n",
    "        done = False\n",
    "        for inp in input_array:\n",
    "            if w <= inp and h <= inp:\n",
    "                result[str(inp)] += 1\n",
    "                done = True\n",
    "        if done == False:\n",
    "            result['rest'] += 1\n",
    "            \n",
    "    return result"
   ]
  },
  {
   "cell_type": "code",
   "execution_count": 114,
   "id": "78ab5cfd",
   "metadata": {},
   "outputs": [
    {
     "data": {
      "text/plain": [
       "16.0"
      ]
     },
     "execution_count": 114,
     "metadata": {},
     "output_type": "execute_result"
    }
   ],
   "source": [
    "32/2"
   ]
  },
  {
   "cell_type": "code",
   "execution_count": 121,
   "id": "972662f1",
   "metadata": {},
   "outputs": [
    {
     "name": "stdout",
     "output_type": "stream",
     "text": [
      "{'16': 31545, '32': 57941, '64': 82576, '96': 93747, '128': 100070, '196': 106938, '212': 107948, '256': 109942, '512': 113772, 'rest': 480} 114252\n"
     ]
    },
    {
     "data": {
      "image/png": "[encoded data removed]",
      "text/plain": [
       "<Figure size 432x288 with 1 Axes>"
      ]
     },
     "metadata": {
      "needs_background": "light"
     },
     "output_type": "display_data"
    }
   ],
   "source": [
    "OD = count_base_size(box_df[\"new_b_w\"].tolist(), box_df[\"new_b_h\"].tolist())\n",
    "# import collections\n",
    "# OD = collections.OrderedDict(sorted(D.items()))\n",
    "print(OD, OD['512'] + OD['rest'])\n",
    "plt.bar(range(len(OD)), OD.values(), align='center')\n",
    "plt.xticks(range(len(OD)), OD.keys()) \n",
    "\n",
    "plt.show()"
   ]
  },
  {
   "cell_type": "code",
   "execution_count": 122,
   "id": "642f52cf",
   "metadata": {},
   "outputs": [
    {
     "data": {
      "text/html": [
       "<div>\n",
       "<style scoped>\n",
       "    .dataframe tbody tr th:only-of-type {\n",
       "        vertical-align: middle;\n",
       "    }\n",
       "\n",
       "    .dataframe tbody tr th {\n",
       "        vertical-align: top;\n",
       "    }\n",
       "\n",
       "    .dataframe thead th {\n",
       "        text-align: right;\n",
       "    }\n",
       "</style>\n",
       "<table border=\"1\" class=\"dataframe\">\n",
       "  <thead>\n",
       "    <tr style=\"text-align: right;\">\n",
       "      <th></th>\n",
       "      <th>ann_id</th>\n",
       "      <th>img_id</th>\n",
       "      <th>img_width</th>\n",
       "      <th>img_height</th>\n",
       "      <th>box_width</th>\n",
       "      <th>box_height</th>\n",
       "      <th>xmin</th>\n",
       "      <th>ymin</th>\n",
       "      <th>new_img_w</th>\n",
       "      <th>new_img_h</th>\n",
       "      <th>new_b_w</th>\n",
       "      <th>new_b_h</th>\n",
       "      <th>new_box_ar</th>\n",
       "      <th>new_box_area</th>\n",
       "      <th>area_scale</th>\n",
       "      <th>new_area_scale</th>\n",
       "    </tr>\n",
       "  </thead>\n",
       "  <tbody>\n",
       "    <tr>\n",
       "      <th>0</th>\n",
       "      <td>48</td>\n",
       "      <td>19</td>\n",
       "      <td>600</td>\n",
       "      <td>800</td>\n",
       "      <td>124.954568</td>\n",
       "      <td>96.974548</td>\n",
       "      <td>227.745941</td>\n",
       "      <td>540.717141</td>\n",
       "      <td>480</td>\n",
       "      <td>640</td>\n",
       "      <td>99.963655</td>\n",
       "      <td>77.579639</td>\n",
       "      <td>1.288530</td>\n",
       "      <td>7755.144190</td>\n",
       "      <td>1.719986</td>\n",
       "      <td>1.375989</td>\n",
       "    </tr>\n",
       "    <tr>\n",
       "      <th>1</th>\n",
       "      <td>90</td>\n",
       "      <td>43</td>\n",
       "      <td>700</td>\n",
       "      <td>525</td>\n",
       "      <td>51.724490</td>\n",
       "      <td>54.296118</td>\n",
       "      <td>451.317370</td>\n",
       "      <td>231.818974</td>\n",
       "      <td>640</td>\n",
       "      <td>480</td>\n",
       "      <td>47.290962</td>\n",
       "      <td>49.642165</td>\n",
       "      <td>0.952637</td>\n",
       "      <td>2347.625745</td>\n",
       "      <td>0.828042</td>\n",
       "      <td>0.757067</td>\n",
       "    </tr>\n",
       "    <tr>\n",
       "      <th>2</th>\n",
       "      <td>95</td>\n",
       "      <td>47</td>\n",
       "      <td>700</td>\n",
       "      <td>340</td>\n",
       "      <td>172.735602</td>\n",
       "      <td>83.031269</td>\n",
       "      <td>127.159570</td>\n",
       "      <td>148.221716</td>\n",
       "      <td>988</td>\n",
       "      <td>480</td>\n",
       "      <td>243.803963</td>\n",
       "      <td>117.220615</td>\n",
       "      <td>2.079873</td>\n",
       "      <td>28578.850463</td>\n",
       "      <td>1.871250</td>\n",
       "      <td>2.641450</td>\n",
       "    </tr>\n",
       "    <tr>\n",
       "      <th>3</th>\n",
       "      <td>96</td>\n",
       "      <td>47</td>\n",
       "      <td>700</td>\n",
       "      <td>340</td>\n",
       "      <td>97.824353</td>\n",
       "      <td>35.234958</td>\n",
       "      <td>163.138863</td>\n",
       "      <td>283.297906</td>\n",
       "      <td>988</td>\n",
       "      <td>480</td>\n",
       "      <td>138.072087</td>\n",
       "      <td>49.743470</td>\n",
       "      <td>2.775683</td>\n",
       "      <td>6868.184754</td>\n",
       "      <td>0.917340</td>\n",
       "      <td>1.294914</td>\n",
       "    </tr>\n",
       "    <tr>\n",
       "      <th>4</th>\n",
       "      <td>97</td>\n",
       "      <td>47</td>\n",
       "      <td>700</td>\n",
       "      <td>340</td>\n",
       "      <td>114.098491</td>\n",
       "      <td>22.535913</td>\n",
       "      <td>119.774202</td>\n",
       "      <td>273.185341</td>\n",
       "      <td>988</td>\n",
       "      <td>480</td>\n",
       "      <td>161.041870</td>\n",
       "      <td>31.815406</td>\n",
       "      <td>5.061757</td>\n",
       "      <td>5123.612496</td>\n",
       "      <td>0.792314</td>\n",
       "      <td>1.118428</td>\n",
       "    </tr>\n",
       "    <tr>\n",
       "      <th>...</th>\n",
       "      <td>...</td>\n",
       "      <td>...</td>\n",
       "      <td>...</td>\n",
       "      <td>...</td>\n",
       "      <td>...</td>\n",
       "      <td>...</td>\n",
       "      <td>...</td>\n",
       "      <td>...</td>\n",
       "      <td>...</td>\n",
       "      <td>...</td>\n",
       "      <td>...</td>\n",
       "      <td>...</td>\n",
       "      <td>...</td>\n",
       "      <td>...</td>\n",
       "      <td>...</td>\n",
       "      <td>...</td>\n",
       "    </tr>\n",
       "    <tr>\n",
       "      <th>114280</th>\n",
       "      <td>354492</td>\n",
       "      <td>69306</td>\n",
       "      <td>389</td>\n",
       "      <td>800</td>\n",
       "      <td>10.063371</td>\n",
       "      <td>27.731015</td>\n",
       "      <td>61.841041</td>\n",
       "      <td>195.414461</td>\n",
       "      <td>480</td>\n",
       "      <td>987</td>\n",
       "      <td>12.417528</td>\n",
       "      <td>34.213139</td>\n",
       "      <td>0.362946</td>\n",
       "      <td>424.842609</td>\n",
       "      <td>0.261021</td>\n",
       "      <td>0.322058</td>\n",
       "    </tr>\n",
       "    <tr>\n",
       "      <th>114281</th>\n",
       "      <td>354493</td>\n",
       "      <td>69306</td>\n",
       "      <td>389</td>\n",
       "      <td>800</td>\n",
       "      <td>27.686104</td>\n",
       "      <td>21.420991</td>\n",
       "      <td>0.168818</td>\n",
       "      <td>212.691889</td>\n",
       "      <td>480</td>\n",
       "      <td>987</td>\n",
       "      <td>34.162802</td>\n",
       "      <td>26.428148</td>\n",
       "      <td>1.292667</td>\n",
       "      <td>902.859593</td>\n",
       "      <td>0.380514</td>\n",
       "      <td>0.469494</td>\n",
       "    </tr>\n",
       "    <tr>\n",
       "      <th>114282</th>\n",
       "      <td>354494</td>\n",
       "      <td>69306</td>\n",
       "      <td>389</td>\n",
       "      <td>800</td>\n",
       "      <td>6.752708</td>\n",
       "      <td>5.397415</td>\n",
       "      <td>0.000000</td>\n",
       "      <td>205.101774</td>\n",
       "      <td>480</td>\n",
       "      <td>987</td>\n",
       "      <td>8.332391</td>\n",
       "      <td>6.659061</td>\n",
       "      <td>1.251286</td>\n",
       "      <td>55.485898</td>\n",
       "      <td>0.094330</td>\n",
       "      <td>0.116389</td>\n",
       "    </tr>\n",
       "    <tr>\n",
       "      <th>114283</th>\n",
       "      <td>354495</td>\n",
       "      <td>69306</td>\n",
       "      <td>389</td>\n",
       "      <td>800</td>\n",
       "      <td>10.965352</td>\n",
       "      <td>28.532995</td>\n",
       "      <td>140.380601</td>\n",
       "      <td>273.772277</td>\n",
       "      <td>480</td>\n",
       "      <td>987</td>\n",
       "      <td>13.530511</td>\n",
       "      <td>35.202582</td>\n",
       "      <td>0.384361</td>\n",
       "      <td>476.308925</td>\n",
       "      <td>0.276379</td>\n",
       "      <td>0.341008</td>\n",
       "    </tr>\n",
       "    <tr>\n",
       "      <th>114284</th>\n",
       "      <td>354496</td>\n",
       "      <td>69306</td>\n",
       "      <td>389</td>\n",
       "      <td>800</td>\n",
       "      <td>9.803678</td>\n",
       "      <td>8.053712</td>\n",
       "      <td>111.761930</td>\n",
       "      <td>259.677791</td>\n",
       "      <td>480</td>\n",
       "      <td>987</td>\n",
       "      <td>12.097083</td>\n",
       "      <td>9.936267</td>\n",
       "      <td>1.217468</td>\n",
       "      <td>120.199852</td>\n",
       "      <td>0.138839</td>\n",
       "      <td>0.171306</td>\n",
       "    </tr>\n",
       "  </tbody>\n",
       "</table>\n",
       "<p>114252 rows × 16 columns</p>\n",
       "</div>"
      ],
      "text/plain": [
       "        ann_id  img_id  img_width  img_height   box_width  box_height  \\\n",
       "0           48      19        600         800  124.954568   96.974548   \n",
       "1           90      43        700         525   51.724490   54.296118   \n",
       "2           95      47        700         340  172.735602   83.031269   \n",
       "3           96      47        700         340   97.824353   35.234958   \n",
       "4           97      47        700         340  114.098491   22.535913   \n",
       "...        ...     ...        ...         ...         ...         ...   \n",
       "114280  354492   69306        389         800   10.063371   27.731015   \n",
       "114281  354493   69306        389         800   27.686104   21.420991   \n",
       "114282  354494   69306        389         800    6.752708    5.397415   \n",
       "114283  354495   69306        389         800   10.965352   28.532995   \n",
       "114284  354496   69306        389         800    9.803678    8.053712   \n",
       "\n",
       "              xmin        ymin  new_img_w  new_img_h     new_b_w     new_b_h  \\\n",
       "0       227.745941  540.717141        480        640   99.963655   77.579639   \n",
       "1       451.317370  231.818974        640        480   47.290962   49.642165   \n",
       "2       127.159570  148.221716        988        480  243.803963  117.220615   \n",
       "3       163.138863  283.297906        988        480  138.072087   49.743470   \n",
       "4       119.774202  273.185341        988        480  161.041870   31.815406   \n",
       "...            ...         ...        ...        ...         ...         ...   \n",
       "114280   61.841041  195.414461        480        987   12.417528   34.213139   \n",
       "114281    0.168818  212.691889        480        987   34.162802   26.428148   \n",
       "114282    0.000000  205.101774        480        987    8.332391    6.659061   \n",
       "114283  140.380601  273.772277        480        987   13.530511   35.202582   \n",
       "114284  111.761930  259.677791        480        987   12.097083    9.936267   \n",
       "\n",
       "        new_box_ar  new_box_area  area_scale  new_area_scale  \n",
       "0         1.288530   7755.144190    1.719986        1.375989  \n",
       "1         0.952637   2347.625745    0.828042        0.757067  \n",
       "2         2.079873  28578.850463    1.871250        2.641450  \n",
       "3         2.775683   6868.184754    0.917340        1.294914  \n",
       "4         5.061757   5123.612496    0.792314        1.118428  \n",
       "...            ...           ...         ...             ...  \n",
       "114280    0.362946    424.842609    0.261021        0.322058  \n",
       "114281    1.292667    902.859593    0.380514        0.469494  \n",
       "114282    1.251286     55.485898    0.094330        0.116389  \n",
       "114283    0.384361    476.308925    0.276379        0.341008  \n",
       "114284    1.217468    120.199852    0.138839        0.171306  \n",
       "\n",
       "[114252 rows x 16 columns]"
      ]
     },
     "execution_count": 122,
     "metadata": {},
     "output_type": "execute_result"
    }
   ],
   "source": [
    "base_anchor = 64*64\n",
    "box_df['area_scale'] = np.sqrt((box_df['box_width']*box_df['box_height'])/base_anchor)\n",
    "\n",
    "new_base_anchor = 64\n",
    "box_df['new_area_scale'] = np.sqrt((box_df['new_b_w']*box_df['new_b_h'])/base_anchor)\n",
    "box_df"
   ]
  },
  {
   "cell_type": "markdown",
   "id": "3d454a22",
   "metadata": {},
   "source": [
    "## clustering box_ar"
   ]
  },
  {
   "cell_type": "code",
   "execution_count": 259,
   "id": "ebb8accc",
   "metadata": {},
   "outputs": [
    {
     "name": "stdout",
     "output_type": "stream",
     "text": [
      "[KMeans(n_clusters=1, random_state=1), KMeans(n_clusters=2, random_state=1), KMeans(n_clusters=3, random_state=1), KMeans(n_clusters=4, random_state=1), KMeans(n_clusters=5, random_state=1)]\n",
      "[1463002.3457494604, 686584.1154741284, 395484.37996501796, 255733.88912652878, 178418.55650691327]\n"
     ]
    },
    {
     "data": {
      "text/plain": [
       "[<matplotlib.lines.Line2D at 0x7fd7ac049750>]"
      ]
     },
     "execution_count": 259,
     "metadata": {},
     "output_type": "execute_result"
    },
    {
     "data": {
      "image/png": "[encoded data removed]",
      "text/plain": [
       "<Figure size 432x288 with 1 Axes>"
      ]
     },
     "metadata": {
      "needs_background": "light"
     },
     "output_type": "display_data"
    }
   ],
   "source": [
    "AR = (box_df['new_box_ar'].values).reshape(-1,1)\n",
    "loss = []\n",
    "label_list = []\n",
    "from sklearn.cluster import KMeans\n",
    "for i in range (1,6):\n",
    "    K = KMeans(i, random_state = 1)\n",
    "    labels = K.fit(AR)\n",
    "    label_list.append(labels)\n",
    "    loss.append(labels.inertia_)\n",
    "    \n",
    "print(label_list)\n",
    "print(loss)\n",
    "plt.plot(loss)"
   ]
  },
  {
   "cell_type": "code",
   "execution_count": 260,
   "id": "14349d11",
   "metadata": {},
   "outputs": [
    {
     "name": "stdout",
     "output_type": "stream",
     "text": [
      "[[ 1.30365657]\n",
      " [19.58878111]\n",
      " [ 9.06706005]\n",
      " [46.42710147]\n",
      " [ 3.98605494]]\n"
     ]
    }
   ],
   "source": [
    "K = KMeans(5, random_state = 1)\n",
    "labels = K.fit(AR)\n",
    "print(labels.cluster_centers_)"
   ]
  },
  {
   "cell_type": "code",
   "execution_count": 129,
   "id": "9a472ba1",
   "metadata": {},
   "outputs": [
    {
     "data": {
      "text/plain": [
       "[<matplotlib.lines.Line2D at 0x7fd7a8fd2350>]"
      ]
     },
     "execution_count": 129,
     "metadata": {},
     "output_type": "execute_result"
    },
    {
     "data": {
      "image/png": "[encoded data removed]",
      "text/plain": [
       "<Figure size 432x288 with 1 Axes>"
      ]
     },
     "metadata": {
      "needs_background": "light"
     },
     "output_type": "display_data"
    }
   ],
   "source": [
    "plt.plot(AR, 'o')"
   ]
  },
  {
   "cell_type": "markdown",
   "id": "4a308e2f",
   "metadata": {},
   "source": [
    "## clustering scale"
   ]
  },
  {
   "cell_type": "code",
   "execution_count": 263,
   "id": "46680811",
   "metadata": {},
   "outputs": [
    {
     "name": "stdout",
     "output_type": "stream",
     "text": [
      "[KMeans(n_clusters=1, random_state=1), KMeans(n_clusters=2, random_state=1), KMeans(n_clusters=3, random_state=1), KMeans(n_clusters=4, random_state=1), KMeans(n_clusters=5, random_state=1)]\n",
      "[16555469046727.37, 5899101391867.338, 3071764093125.4688, 1850217679536.4236, 1255922852350.2031]\n"
     ]
    },
    {
     "data": {
      "text/plain": [
       "[<matplotlib.lines.Line2D at 0x7fd7917870d0>]"
      ]
     },
     "execution_count": 263,
     "metadata": {},
     "output_type": "execute_result"
    },
    {
     "data": {
      "image/png": "[encoded data removed]",
      "text/plain": [
       "<Figure size 432x288 with 1 Axes>"
      ]
     },
     "metadata": {
      "needs_background": "light"
     },
     "output_type": "display_data"
    }
   ],
   "source": [
    "S = (box_df['new_box_area'].values).reshape(-1,1)\n",
    "loss = []\n",
    "label_list = []\n",
    "from sklearn.cluster import KMeans\n",
    "for i in range (1,6):\n",
    "    K = KMeans(i, random_state = 1)\n",
    "    labels = K.fit(S)\n",
    "    label_list.append(labels)\n",
    "    loss.append(labels.inertia_)\n",
    "    \n",
    "print(label_list)\n",
    "print(loss)\n",
    "plt.plot(loss)"
   ]
  },
  {
   "cell_type": "code",
   "execution_count": 266,
   "id": "863b04c7",
   "metadata": {},
   "outputs": [
    {
     "name": "stdout",
     "output_type": "stream",
     "text": [
      "mean loss(distance): 1255922852350.2034\n",
      "[[   901.84445467]\n",
      " [ 75299.59377482]\n",
      " [149527.06186126]\n",
      " [ 12701.07042653]\n",
      " [ 36455.64582816]]\n",
      "[[  112.73055683]\n",
      " [ 9412.44922185]\n",
      " [18690.88273266]\n",
      " [ 1587.63380332]\n",
      " [ 4556.95572852]]\n"
     ]
    }
   ],
   "source": [
    "K = KMeans(5, random_state = 1)\n",
    "labels = K.fit(S)\n",
    "print('mean loss(distance):', labels.inertia_)\n",
    "center = np.array(labels.cluster_centers_)\n",
    "print(center)\n",
    "print(center/8)"
   ]
  },
  {
   "cell_type": "code",
   "execution_count": null,
   "id": "2f76c67e",
   "metadata": {},
   "outputs": [],
   "source": []
  },
  {
   "cell_type": "code",
   "execution_count": null,
   "id": "5159c88e",
   "metadata": {},
   "outputs": [],
   "source": []
  },
  {
   "cell_type": "code",
   "execution_count": 130,
   "id": "8fff11a3",
   "metadata": {},
   "outputs": [
    {
     "data": {
      "text/plain": [
       "[<matplotlib.lines.Line2D at 0x7fd7a8910a10>]"
      ]
     },
     "execution_count": 130,
     "metadata": {},
     "output_type": "execute_result"
    },
    {
     "data": {
      "image/png": "[encoded data removed]",
      "text/plain": [
       "<Figure size 432x288 with 1 Axes>"
      ]
     },
     "metadata": {
      "needs_background": "light"
     },
     "output_type": "display_data"
    }
   ],
   "source": [
    "plt.plot(S, 'o')"
   ]
  },
  {
   "cell_type": "markdown",
   "id": "f8a21d13",
   "metadata": {},
   "source": [
    "## clustering both ar and scale"
   ]
  },
  {
   "cell_type": "code",
   "execution_count": 161,
   "id": "2c76eefa",
   "metadata": {},
   "outputs": [],
   "source": [
    "# print data.columns[[12,15]]\n",
    "from sklearn.cluster import KMeans\n",
    "\n",
    "def sweep_k_param(ar_scale):\n",
    "    loss = {}\n",
    "    centers = {}\n",
    "    for k in range (2,6):\n",
    "        \n",
    "     \n",
    "        # X = box_df.as_matrix(columns=box_df.columns[[12,15]])\n",
    "        K = KMeans(k, random_state=0)\n",
    "        labels = K.fit(ar_scale)\n",
    "        loss[k] = labels.inertia_\n",
    "        centers[k] = labels.cluster_centers_\n",
    "        plt.subplot(2,2,k-1)\n",
    "        plt.scatter(ar_scale[:, 0], ar_scale[:, 1], c=labels.labels_,s=50, cmap='viridis')\n",
    "\n",
    "    return loss, centers"
   ]
  },
  {
   "cell_type": "code",
   "execution_count": 155,
   "id": "d04d1b4c",
   "metadata": {},
   "outputs": [
    {
     "data": {
      "image/png": "[encoded data removed]",
      "text/plain": [
       "<Figure size 432x288 with 4 Axes>"
      ]
     },
     "metadata": {
      "needs_background": "light"
     },
     "output_type": "display_data"
    }
   ],
   "source": [
    "box_df['box_ar'] = box_df['box_width']/box_df['box_height']\n",
    "ar_scale = box_df[['box_ar','area_scale']].values\n",
    "loss, centers = sweep_k_param(ar_scale)\n",
    "# print(labels.cluster_centers_)"
   ]
  },
  {
   "cell_type": "code",
   "execution_count": 158,
   "id": "b2018a11",
   "metadata": {
    "scrolled": true
   },
   "outputs": [
    {
     "data": {
      "image/png": "[encoded data removed]",
      "text/plain": [
       "<Figure size 432x288 with 1 Axes>"
      ]
     },
     "metadata": {
      "needs_background": "light"
     },
     "output_type": "display_data"
    }
   ],
   "source": [
    "plt.plot(list(loss.keys()), list(loss.values()))\n",
    "plt.xlabel('number of anchors (clusters)')\n",
    "plt.ylabel('distance/loss')\n",
    "plt.show()"
   ]
  },
  {
   "cell_type": "code",
   "execution_count": 160,
   "id": "2d9f8a43",
   "metadata": {},
   "outputs": [
    {
     "name": "stdout",
     "output_type": "stream",
     "text": [
      "[[ 1.74086011  0.92239568]\n",
      " [24.97504726  1.26317699]\n",
      " [ 7.50254985  1.09918846]\n",
      " [ 2.42839606  8.71130285]]\n",
      "615063.323567473\n"
     ]
    }
   ],
   "source": [
    "print(centers[4])\n",
    "print(loss[4])\n",
    "\n",
    "ar = "
   ]
  },
  {
   "cell_type": "code",
   "execution_count": null,
   "id": "3c22b6ea",
   "metadata": {},
   "outputs": [],
   "source": []
  },
  {
   "cell_type": "code",
   "execution_count": null,
   "id": "309eff46",
   "metadata": {},
   "outputs": [],
   "source": []
  },
  {
   "cell_type": "code",
   "execution_count": null,
   "id": "e6453eb4",
   "metadata": {},
   "outputs": [],
   "source": []
  },
  {
   "cell_type": "code",
   "execution_count": null,
   "id": "70520048",
   "metadata": {},
   "outputs": [],
   "source": []
  },
  {
   "cell_type": "code",
   "execution_count": 162,
   "id": "50adc2f6",
   "metadata": {},
   "outputs": [
    {
     "data": {
      "image/png": "[encoded data removed]",
      "text/plain": [
       "<Figure size 432x288 with 4 Axes>"
      ]
     },
     "metadata": {
      "needs_background": "light"
     },
     "output_type": "display_data"
    }
   ],
   "source": [
    "# print data.columns[[12,15]]\n",
    "ar_scale = box_df[['new_box_ar','new_area_scale']].values\n",
    "# X = box_df.as_matrix(columns=box_df.columns[[12,15]])\n",
    "\n",
    "loss_v2, centers_v2 = sweep_k_param(ar_scale)"
   ]
  },
  {
   "cell_type": "code",
   "execution_count": 163,
   "id": "7d417ac4",
   "metadata": {},
   "outputs": [
    {
     "data": {
      "image/png": "[encoded data removed]",
      "text/plain": [
       "<Figure size 432x288 with 1 Axes>"
      ]
     },
     "metadata": {
      "needs_background": "light"
     },
     "output_type": "display_data"
    }
   ],
   "source": [
    "plt.plot(list(loss_v2.keys()), list(loss_v2.values()))\n",
    "plt.xlabel('number of anchors (clusters)')\n",
    "plt.ylabel('distance/loss')\n",
    "plt.show()"
   ]
  },
  {
   "cell_type": "code",
   "execution_count": 166,
   "id": "348483bc",
   "metadata": {},
   "outputs": [
    {
     "name": "stdout",
     "output_type": "stream",
     "text": [
      "aspect ratio:  [ 2.59028768 23.62001369  8.49998687 66.18857064]\n",
      "scale:  [0.01447248 0.04379185 0.02779787 0.07051803]\n"
     ]
    }
   ],
   "source": [
    "picked_center = centers_v2[4]\n",
    "# ar = picked_center[:,0]/picked_center[:,1]\n",
    "\n",
    "scale = picked_center[:,1]*np.sqrt(ar)/64\n",
    "print('aspect ratio: ',ar)\n",
    "print('scale: ',scale)"
   ]
  },
  {
   "cell_type": "code",
   "execution_count": 177,
   "id": "000023eb",
   "metadata": {},
   "outputs": [
    {
     "name": "stdout",
     "output_type": "stream",
     "text": [
      "[[ 1.49072311  0.57550485]\n",
      " [13.62113633  0.57667775]\n",
      " [ 5.18681417  0.61021437]\n",
      " [36.71737928  0.55473897]]\n",
      "aspect ratio:  [ 1.49072311 13.62113633  5.18681417 36.71737928]\n",
      "ar2:  [ 2.59028768 23.62001369  8.49998687 66.18857064]\n",
      "area:  [21.19717296 21.28366251 23.8311413  19.69506055]\n",
      "scale [0.01097912 0.03325523 0.02171465 0.0525224 ]\n"
     ]
    }
   ],
   "source": [
    "picked_center = centers_v2[4]\n",
    "print(picked_center)\n",
    "ar = picked_center[:,0]\n",
    "ar2 = picked_center[:,0]/picked_center[:,1]\n",
    "\n",
    "area = np.power(picked_center[:,1],2)*(64)\n",
    "scale = picked_center[:,1]*np.sqrt(ar)/64\n",
    "print('aspect ratio: ',ar)\n",
    "print('ar2: ', ar2)\n",
    "print('area: ',area)\n",
    "print('scale', scale)"
   ]
  },
  {
   "cell_type": "code",
   "execution_count": 175,
   "id": "0c17ab73",
   "metadata": {},
   "outputs": [
    {
     "name": "stdout",
     "output_type": "stream",
     "text": [
      "[2.64964662 2.66045781 2.97889266 2.46188257]\n"
     ]
    }
   ],
   "source": [
    "print(area/8)"
   ]
  },
  {
   "cell_type": "code",
   "execution_count": 179,
   "id": "e6d5777f",
   "metadata": {},
   "outputs": [
    {
     "data": {
      "image/png": "[encoded data removed]",
      "text/plain": [
       "<Figure size 432x288 with 4 Axes>"
      ]
     },
     "metadata": {
      "needs_background": "light"
     },
     "output_type": "display_data"
    }
   ],
   "source": [
    "ar_scale = box_df[['new_box_ar','new_box_area']].values\n",
    "loss_v3, centers_v3 = sweep_k_param(ar_scale)"
   ]
  },
  {
   "cell_type": "code",
   "execution_count": 180,
   "id": "57dd52a4",
   "metadata": {},
   "outputs": [
    {
     "data": {
      "image/png": "[encoded data removed]",
      "text/plain": [
       "<Figure size 432x288 with 1 Axes>"
      ]
     },
     "metadata": {
      "needs_background": "light"
     },
     "output_type": "display_data"
    }
   ],
   "source": [
    "plt.plot(list(loss_v3.keys()), list(loss_v3.values()))\n",
    "plt.xlabel('number of anchors (clusters)')\n",
    "plt.ylabel('distance/loss')\n",
    "plt.show()"
   ]
  },
  {
   "cell_type": "code",
   "execution_count": 186,
   "id": "20880b59",
   "metadata": {},
   "outputs": [
    {
     "name": "stdout",
     "output_type": "stream",
     "text": [
      "centers:  [[2.76267655e+00 9.01205167e+02]\n",
      " [2.61600145e+00 3.64849206e+04]\n",
      " [1.83551670e+00 1.49527062e+05]\n",
      " [3.04136575e+00 1.26938652e+04]\n",
      " [2.25080659e+00 7.53776255e+04]]\n",
      "[2.76267655 2.61600145 1.8355167  3.04136575 2.25080659] [   901.20516678  36484.92061809 149527.06186126  12693.86520245\n",
      "  75377.62546838]\n"
     ]
    }
   ],
   "source": [
    "picked_center_v3 = centers_v3[5]\n",
    "print('centers: ', picked_center_v3)\n",
    "area_ = picked_center_v3[:,1]\n",
    "aspect_ratio = picked_center_v3[:,0]\n",
    "print(aspect_ratio, area_)"
   ]
  },
  {
   "cell_type": "code",
   "execution_count": 188,
   "id": "1b2e2b05",
   "metadata": {},
   "outputs": [
    {
     "name": "stdout",
     "output_type": "stream",
     "text": [
      "[ 3.75250992 23.87628289 48.33591151 14.08338183 34.31873246]\n"
     ]
    }
   ],
   "source": [
    "print(np.sqrt(area_)/8)`"
   ]
  },
  {
   "cell_type": "markdown",
   "id": "fa25d622",
   "metadata": {},
   "source": [
    "ratios = [2.76267655, 2.61600145,  1.8355167, 3.04136575, 2.25080659],\n",
    "strides = [3.75250992, 23.87628289, 48.33591151, 14.08338183, 34.31873246],\n",
    "featmap_strides=[3.75250992, 23.87628289, 48.33591151, 14.08338183, 34.31873246]),\n",
    "\n"
   ]
  },
  {
   "cell_type": "markdown",
   "id": "2c8b8275",
   "metadata": {},
   "source": [
    "### w vs h"
   ]
  },
  {
   "cell_type": "code",
   "execution_count": 208,
   "id": "58636f14",
   "metadata": {},
   "outputs": [
    {
     "data": {
      "image/png": "[encoded data removed]",
      "text/plain": [
       "<Figure size 432x288 with 4 Axes>"
      ]
     },
     "metadata": {
      "needs_background": "light"
     },
     "output_type": "display_data"
    }
   ],
   "source": [
    "boxes = box_df[['new_b_w','new_b_h']].values\n",
    "loss_v4, centers_v4 = sweep_k_param(boxes)"
   ]
  },
  {
   "cell_type": "code",
   "execution_count": 209,
   "id": "49f21232",
   "metadata": {},
   "outputs": [
    {
     "data": {
      "image/png": "[encoded data removed]",
      "text/plain": [
       "<Figure size 432x288 with 1 Axes>"
      ]
     },
     "metadata": {
      "needs_background": "light"
     },
     "output_type": "display_data"
    }
   ],
   "source": [
    "plt.plot(list(loss_v4.keys()), list(loss_v4.values()))\n",
    "plt.xlabel('number of anchors (clusters)')\n",
    "plt.ylabel('distance/loss')\n",
    "plt.show()"
   ]
  },
  {
   "cell_type": "code",
   "execution_count": 213,
   "id": "dc27361f",
   "metadata": {},
   "outputs": [
    {
     "name": "stdout",
     "output_type": "stream",
     "text": [
      "centers:  [[ 20.54092977  13.99055062]\n",
      " [215.02585105  61.84075074]\n",
      " [ 85.35920372  45.2123281 ]\n",
      " [180.77084748 204.97951743]\n",
      " [448.89043008 129.56214708]]\n",
      "aspect_ratio [1.46820024 3.47708992 1.88796302 0.88189713 3.46467267]\n",
      "scale [ 16.95225406 115.31417977  62.1231706  192.49498976 241.16220252]\n",
      "[ 2. 14.  8. 24. 30.]\n"
     ]
    }
   ],
   "source": [
    "#model v7\n",
    "picked_center_v4 = centers_v4[5]\n",
    "print('centers: ', picked_center_v4)\n",
    "aspect_ratio = picked_center_v4[:,0]/picked_center_v4[:,1]\n",
    "scale = picked_center_v4[:,0]/np.sqrt(aspect_ratio)\n",
    "\n",
    "print('aspect_ratio',aspect_ratio)\n",
    "print('scale',scale)\n",
    "print(np.round(scale/8))"
   ]
  },
  {
   "cell_type": "code",
   "execution_count": null,
   "id": "9243f33f",
   "metadata": {},
   "outputs": [],
   "source": [
    "print(np.sqrt(area_)/8)"
   ]
  },
  {
   "cell_type": "code",
   "execution_count": 267,
   "id": "d47b334d",
   "metadata": {},
   "outputs": [
    {
     "name": "stdout",
     "output_type": "stream",
     "text": [
      "centers:  [[364.80619374 127.40062925]\n",
      " [ 26.37638551  16.96215555]\n",
      " [134.64750688  66.80117709]]\n",
      "aspect_ratio [2.86345677 1.55501377 2.01564572]\n",
      "scale [215.58417993  21.15184044  94.83992805]\n",
      "[27.  3. 12.]\n"
     ]
    }
   ],
   "source": [
    "#model v7\n",
    "picked_center_v4 = centers_v4[3]\n",
    "print('centers: ', picked_center_v4)\n",
    "aspect_ratio = picked_center_v4[:,0]/picked_center_v4[:,1]\n",
    "scale = picked_center_v4[:,0]/np.sqrt(aspect_ratio)\n",
    "\n",
    "print('aspect_ratio',aspect_ratio)\n",
    "print('scale',scale)\n",
    "print(np.round(scale/8))"
   ]
  },
  {
   "cell_type": "markdown",
   "id": "a03ba52f",
   "metadata": {},
   "source": [
    "## Iou distance"
   ]
  },
  {
   "cell_type": "markdown",
   "id": "75ffec10",
   "metadata": {},
   "source": [
    "A distance metric based on IoU is invariant to the size of boxes, unlike the Euclidean distance metric, which produces larger errors as the box sizes increase [1]. In addition, using an IoU distance metric leads to boxes of similar aspect ratios and sizes being clustered together, which results in anchor box estimates that fit the data."
   ]
  },
  {
   "cell_type": "code",
   "execution_count": 189,
   "id": "e87824d8",
   "metadata": {},
   "outputs": [],
   "source": [
    "import numpy as np\n",
    "\n",
    "\n",
    "def iou(box, clusters):\n",
    "    \"\"\"\n",
    "    Calculates the Intersection over Union (IoU) between a box and k clusters.\n",
    "    :param box: tuple or array, shifted to the origin (i. e. width and height)\n",
    "    :param clusters: numpy array of shape (k, 2) where k is the number of clusters\n",
    "    :return: numpy array of shape (k, 0) where k is the number of clusters\n",
    "    \"\"\"\n",
    "    x = np.minimum(clusters[:, 0], box[0])\n",
    "    y = np.minimum(clusters[:, 1], box[1])\n",
    "    if np.count_nonzero(x == 0) > 0 or np.count_nonzero(y == 0) > 0:\n",
    "        raise ValueError(\"Box has no area\")\n",
    "\n",
    "    intersection = x * y\n",
    "    box_area = box[0] * box[1]\n",
    "    cluster_area = clusters[:, 0] * clusters[:, 1]\n",
    "\n",
    "    iou_ = intersection / (box_area + cluster_area - intersection)\n",
    "\n",
    "    return iou_\n",
    "\n",
    "\n",
    "def avg_iou(boxes, clusters):\n",
    "    \"\"\"\n",
    "    Calculates the average Intersection over Union (IoU) between a numpy array of boxes and k clusters.\n",
    "    :param boxes: numpy array of shape (r, 2), where r is the number of rows\n",
    "    :param clusters: numpy array of shape (k, 2) where k is the number of clusters\n",
    "    :return: average IoU as a single float\n",
    "    \"\"\"\n",
    "    return np.mean([np.max(iou(boxes[i], clusters)) for i in range(boxes.shape[0])])\n",
    "\n",
    "\n",
    "def translate_boxes(boxes):\n",
    "    \"\"\"\n",
    "    Translates all the boxes to the origin.\n",
    "    :param boxes: numpy array of shape (r, 4)\n",
    "    :return: numpy array of shape (r, 2)\n",
    "    \"\"\"\n",
    "    new_boxes = boxes.copy()\n",
    "    for row in range(new_boxes.shape[0]):\n",
    "        new_boxes[row][2] = np.abs(new_boxes[row][2] - new_boxes[row][0])\n",
    "        new_boxes[row][3] = np.abs(new_boxes[row][3] - new_boxes[row][1])\n",
    "    return np.delete(new_boxes, [0, 1], axis=1)\n",
    "\n",
    "\n",
    "def kmeans(boxes, k, dist=np.median):\n",
    "    \"\"\"\n",
    "    Calculates k-means clustering with the Intersection over Union (IoU) metric.\n",
    "    :param boxes: numpy array of shape (r, 2), where r is the number of rows\n",
    "    :param k: number of clusters\n",
    "    :param dist: distance function\n",
    "    :return: numpy array of shape (k, 2)\n",
    "    \"\"\"\n",
    "    rows = boxes.shape[0]\n",
    "\n",
    "    distances = np.empty((rows, k))\n",
    "    last_clusters = np.zeros((rows,))\n",
    "\n",
    "    np.random.seed()\n",
    "\n",
    "    # the Forgy method will fail if the whole array contains the same rows\n",
    "    clusters = boxes[np.random.choice(rows, k, replace=False)]\n",
    "\n",
    "    while True:\n",
    "        for row in range(rows):\n",
    "            distances[row] = 1 - iou(boxes[row], clusters)\n",
    "\n",
    "        nearest_clusters = np.argmin(distances, axis=1)\n",
    "\n",
    "        if (last_clusters == nearest_clusters).all():\n",
    "            break\n",
    "\n",
    "        for cluster in range(k):\n",
    "            clusters[cluster] = dist(boxes[nearest_clusters == cluster], axis=0)\n",
    "\n",
    "        last_clusters = nearest_clusters\n",
    "\n",
    "    return clusters"
   ]
  },
  {
   "cell_type": "code",
   "execution_count": 198,
   "id": "be5ece9f",
   "metadata": {},
   "outputs": [
    {
     "name": "stdout",
     "output_type": "stream",
     "text": [
      "(114252, 2)\n",
      "[[0.08185686 0.05269608]\n",
      " [0.24980468 0.14824738]\n",
      " [0.0317292  0.02223528]\n",
      " [0.01132464 0.01004629]]\n"
     ]
    }
   ],
   "source": [
    "box_df['shifted_box_w'] = box_df['new_b_w']/box_df['new_img_w']\n",
    "box_df['shifted_box_h'] = box_df['new_b_h']/box_df['new_img_h']\n",
    "boxes = box_df[['shifted_box_w', 'shifted_box_h']].values\n",
    "print(boxes.shape)\n",
    "clusters = kmeans(boxes, 4)\n",
    "print(clusters)"
   ]
  },
  {
   "cell_type": "code",
   "execution_count": 196,
   "id": "af5a8f0b",
   "metadata": {},
   "outputs": [
    {
     "name": "stdout",
     "output_type": "stream",
     "text": [
      "[ 1  2  3 -1 -2 -3]\n"
     ]
    }
   ],
   "source": [
    "ratios = clusters[:,0]/clusters[:,1]\n",
    "scales = "
   ]
  },
  {
   "cell_type": "code",
   "execution_count": 206,
   "id": "b062df08",
   "metadata": {},
   "outputs": [
    {
     "name": "stdout",
     "output_type": "stream",
     "text": [
      "[[ 68.4886326   30.41846529]\n",
      " [  6.30249812   4.85641451]\n",
      " [ 25.33727493  18.82352941]\n",
      " [172.46422893  87.16228473]\n",
      " [ 17.64979502   7.54285714]]\n",
      "aspect ratio:  [2.25154793 1.29776775 1.34604273 1.97865659 2.33993495]\n",
      "scales:  [ 45.64339047   5.53240846  21.83888596 122.60659129  11.53819234]\n"
     ]
    }
   ],
   "source": [
    "boxes = box_df[['new_b_w','new_b_h']].values\n",
    "clusters = kmeans(boxes, 5)\n",
    "print(clusters)\n",
    "ar = clusters[:,0]/clusters[:,1]\n",
    "print('aspect ratio: ',ar)\n",
    "scale = clusters[:,0]/np.sqrt(ar)\n",
    "print('scales: ', scale)"
   ]
  },
  {
   "cell_type": "code",
   "execution_count": 207,
   "id": "d6f6bffe",
   "metadata": {},
   "outputs": [
    {
     "data": {
      "text/plain": [
       "array([ 5.70542381,  0.69155106,  2.72986074, 15.32582391,  1.44227404])"
      ]
     },
     "execution_count": 207,
     "metadata": {},
     "output_type": "execute_result"
    }
   ],
   "source": [
    "scale/8"
   ]
  },
  {
   "cell_type": "code",
   "execution_count": 202,
   "id": "42707f87",
   "metadata": {},
   "outputs": [
    {
     "name": "stdout",
     "output_type": "stream",
     "text": [
      "{2: array([[13.29230769,  7.82026135],\n",
      "       [70.99847435, 36.07158171]]), 3: array([[  9.21281777,   5.86787709],\n",
      "       [115.62430939,  56.75138122],\n",
      "       [ 31.50166852,  16.78379534]]), 4: array([[ 20.44728435,  11.20109815],\n",
      "       [  7.3631681 ,   5.02614752],\n",
      "       [ 52.33438374,  26.74360271],\n",
      "       [156.39251049,  76.11170785]]), 5: array([[159.44179519,  77.24506258],\n",
      "       [ 14.85082873,  16.94664453],\n",
      "       [  7.57559153,   4.98287065],\n",
      "       [ 53.28707719,  27.62529241],\n",
      "       [ 29.52739617,   7.90665752]]), 6: array([[ 24.51042748,   6.54545455],\n",
      "       [ 81.14917127,  36.89773507],\n",
      "       [ 11.53054221,  13.25966851],\n",
      "       [ 33.23072825,  19.76512138],\n",
      "       [193.65288983,  98.58477003],\n",
      "       [  6.7514388 ,   4.55153824]])}\n"
     ]
    }
   ],
   "source": [
    "boxes = box_df[['new_b_w','new_b_h']].values\n",
    "out_dict = {}\n",
    "for k in range (2,7):\n",
    "    clusters = kmeans(boxes,k)\n",
    "    out_dict[k] = clusters\n",
    "    \n",
    "print(out_dict)"
   ]
  },
  {
   "cell_type": "code",
   "execution_count": 268,
   "id": "7d24b703",
   "metadata": {
    "scrolled": true
   },
   "outputs": [
    {
     "name": "stdout",
     "output_type": "stream",
     "text": [
      "[[ 10.38715577   7.65618739]\n",
      " [ 60.6897024   36.21085438]\n",
      " [156.77326969  75.60741249]\n",
      " [ 29.01272731  15.1160221 ]\n",
      " [434.56329183 214.1370168 ]]\n"
     ]
    }
   ],
   "source": [
    "print(out_dict)"
   ]
  },
  {
   "cell_type": "code",
   "execution_count": 217,
   "id": "3895ac60",
   "metadata": {},
   "outputs": [
    {
     "name": "stdout",
     "output_type": "stream",
     "text": [
      "aspect ratio:  [2.06410339 0.87632857 1.52032675 1.92892355 3.73449794]\n",
      "scales:  [110.9778872   15.8641645    6.14395578  38.36757862  15.27949635]\n",
      "scale/base_size:  [14.  2.  1.  5.  2.]\n"
     ]
    }
   ],
   "source": [
    "picked_center = out_dict[5]\n",
    "ar = picked_center[:,0]/picked_center[:,1]\n",
    "print('aspect ratio: ',ar)\n",
    "scale = picked_center[:,0]/np.sqrt(ar)\n",
    "print('scales: ', scale)\n",
    "print('scale/base_size: ', np.round(scale/8))"
   ]
  },
  {
   "cell_type": "code",
   "execution_count": 223,
   "id": "e729d5a9",
   "metadata": {},
   "outputs": [
    {
     "name": "stdout",
     "output_type": "stream",
     "text": [
      "aspect ratio:  [0.63692534 0.49082569 0.53279068]\n",
      "scales:  [ 7.35252897 81.00518045 22.99385912]\n",
      "scale/base_size:  [ 1. 10.  3.]\n"
     ]
    }
   ],
   "source": [
    "#v8\n",
    "picked_center = out_dict[3]\n",
    "ar = picked_center[:,1]/picked_center[:,0]\n",
    "print('aspect ratio: ',ar)\n",
    "scale = picked_center[:,0]*np.sqrt(ar)\n",
    "print('scales: ', scale)\n",
    "print('scale/base_size: ', np.round(scale/8))"
   ]
  },
  {
   "cell_type": "code",
   "execution_count": 226,
   "id": "bd7ce48a",
   "metadata": {},
   "outputs": [
    {
     "data": {
      "text/html": [
       "<div>\n",
       "<style scoped>\n",
       "    .dataframe tbody tr th:only-of-type {\n",
       "        vertical-align: middle;\n",
       "    }\n",
       "\n",
       "    .dataframe tbody tr th {\n",
       "        vertical-align: top;\n",
       "    }\n",
       "\n",
       "    .dataframe thead th {\n",
       "        text-align: right;\n",
       "    }\n",
       "</style>\n",
       "<table border=\"1\" class=\"dataframe\">\n",
       "  <thead>\n",
       "    <tr style=\"text-align: right;\">\n",
       "      <th></th>\n",
       "      <th>ann_id</th>\n",
       "      <th>img_id</th>\n",
       "      <th>img_width</th>\n",
       "      <th>img_height</th>\n",
       "      <th>box_width</th>\n",
       "      <th>box_height</th>\n",
       "      <th>xmin</th>\n",
       "      <th>ymin</th>\n",
       "      <th>new_img_w</th>\n",
       "      <th>new_img_h</th>\n",
       "      <th>new_b_w</th>\n",
       "      <th>new_b_h</th>\n",
       "      <th>new_box_ar</th>\n",
       "      <th>new_box_area</th>\n",
       "      <th>area_scale</th>\n",
       "      <th>new_area_scale</th>\n",
       "      <th>box_ar</th>\n",
       "      <th>shifted_box_w</th>\n",
       "      <th>shifted_box_h</th>\n",
       "    </tr>\n",
       "  </thead>\n",
       "  <tbody>\n",
       "    <tr>\n",
       "      <th>0</th>\n",
       "      <td>48</td>\n",
       "      <td>19</td>\n",
       "      <td>600</td>\n",
       "      <td>800</td>\n",
       "      <td>124.954568</td>\n",
       "      <td>96.974548</td>\n",
       "      <td>227.745941</td>\n",
       "      <td>540.717141</td>\n",
       "      <td>480</td>\n",
       "      <td>640</td>\n",
       "      <td>99.963655</td>\n",
       "      <td>77.579639</td>\n",
       "      <td>1.288530</td>\n",
       "      <td>7755.144190</td>\n",
       "      <td>1.719986</td>\n",
       "      <td>1.375989</td>\n",
       "      <td>1.288530</td>\n",
       "      <td>0.208258</td>\n",
       "      <td>0.121218</td>\n",
       "    </tr>\n",
       "    <tr>\n",
       "      <th>1</th>\n",
       "      <td>90</td>\n",
       "      <td>43</td>\n",
       "      <td>700</td>\n",
       "      <td>525</td>\n",
       "      <td>51.724490</td>\n",
       "      <td>54.296118</td>\n",
       "      <td>451.317370</td>\n",
       "      <td>231.818974</td>\n",
       "      <td>640</td>\n",
       "      <td>480</td>\n",
       "      <td>47.290962</td>\n",
       "      <td>49.642165</td>\n",
       "      <td>0.952637</td>\n",
       "      <td>2347.625745</td>\n",
       "      <td>0.828042</td>\n",
       "      <td>0.757067</td>\n",
       "      <td>0.952637</td>\n",
       "      <td>0.073892</td>\n",
       "      <td>0.103421</td>\n",
       "    </tr>\n",
       "    <tr>\n",
       "      <th>2</th>\n",
       "      <td>95</td>\n",
       "      <td>47</td>\n",
       "      <td>700</td>\n",
       "      <td>340</td>\n",
       "      <td>172.735602</td>\n",
       "      <td>83.031269</td>\n",
       "      <td>127.159570</td>\n",
       "      <td>148.221716</td>\n",
       "      <td>988</td>\n",
       "      <td>480</td>\n",
       "      <td>243.803963</td>\n",
       "      <td>117.220615</td>\n",
       "      <td>2.079873</td>\n",
       "      <td>28578.850463</td>\n",
       "      <td>1.871250</td>\n",
       "      <td>2.641450</td>\n",
       "      <td>2.080368</td>\n",
       "      <td>0.246765</td>\n",
       "      <td>0.244210</td>\n",
       "    </tr>\n",
       "    <tr>\n",
       "      <th>3</th>\n",
       "      <td>96</td>\n",
       "      <td>47</td>\n",
       "      <td>700</td>\n",
       "      <td>340</td>\n",
       "      <td>97.824353</td>\n",
       "      <td>35.234958</td>\n",
       "      <td>163.138863</td>\n",
       "      <td>283.297906</td>\n",
       "      <td>988</td>\n",
       "      <td>480</td>\n",
       "      <td>138.072087</td>\n",
       "      <td>49.743470</td>\n",
       "      <td>2.775683</td>\n",
       "      <td>6868.184754</td>\n",
       "      <td>0.917340</td>\n",
       "      <td>1.294914</td>\n",
       "      <td>2.776344</td>\n",
       "      <td>0.139749</td>\n",
       "      <td>0.103632</td>\n",
       "    </tr>\n",
       "    <tr>\n",
       "      <th>4</th>\n",
       "      <td>97</td>\n",
       "      <td>47</td>\n",
       "      <td>700</td>\n",
       "      <td>340</td>\n",
       "      <td>114.098491</td>\n",
       "      <td>22.535913</td>\n",
       "      <td>119.774202</td>\n",
       "      <td>273.185341</td>\n",
       "      <td>988</td>\n",
       "      <td>480</td>\n",
       "      <td>161.041870</td>\n",
       "      <td>31.815406</td>\n",
       "      <td>5.061757</td>\n",
       "      <td>5123.612496</td>\n",
       "      <td>0.792314</td>\n",
       "      <td>1.118428</td>\n",
       "      <td>5.062963</td>\n",
       "      <td>0.162998</td>\n",
       "      <td>0.066282</td>\n",
       "    </tr>\n",
       "    <tr>\n",
       "      <th>...</th>\n",
       "      <td>...</td>\n",
       "      <td>...</td>\n",
       "      <td>...</td>\n",
       "      <td>...</td>\n",
       "      <td>...</td>\n",
       "      <td>...</td>\n",
       "      <td>...</td>\n",
       "      <td>...</td>\n",
       "      <td>...</td>\n",
       "      <td>...</td>\n",
       "      <td>...</td>\n",
       "      <td>...</td>\n",
       "      <td>...</td>\n",
       "      <td>...</td>\n",
       "      <td>...</td>\n",
       "      <td>...</td>\n",
       "      <td>...</td>\n",
       "      <td>...</td>\n",
       "      <td>...</td>\n",
       "    </tr>\n",
       "    <tr>\n",
       "      <th>114280</th>\n",
       "      <td>354492</td>\n",
       "      <td>69306</td>\n",
       "      <td>389</td>\n",
       "      <td>800</td>\n",
       "      <td>10.063371</td>\n",
       "      <td>27.731015</td>\n",
       "      <td>61.841041</td>\n",
       "      <td>195.414461</td>\n",
       "      <td>480</td>\n",
       "      <td>987</td>\n",
       "      <td>12.417528</td>\n",
       "      <td>34.213139</td>\n",
       "      <td>0.362946</td>\n",
       "      <td>424.842609</td>\n",
       "      <td>0.261021</td>\n",
       "      <td>0.322058</td>\n",
       "      <td>0.362892</td>\n",
       "      <td>0.025870</td>\n",
       "      <td>0.034664</td>\n",
       "    </tr>\n",
       "    <tr>\n",
       "      <th>114281</th>\n",
       "      <td>354493</td>\n",
       "      <td>69306</td>\n",
       "      <td>389</td>\n",
       "      <td>800</td>\n",
       "      <td>27.686104</td>\n",
       "      <td>21.420991</td>\n",
       "      <td>0.168818</td>\n",
       "      <td>212.691889</td>\n",
       "      <td>480</td>\n",
       "      <td>987</td>\n",
       "      <td>34.162802</td>\n",
       "      <td>26.428148</td>\n",
       "      <td>1.292667</td>\n",
       "      <td>902.859593</td>\n",
       "      <td>0.380514</td>\n",
       "      <td>0.469494</td>\n",
       "      <td>1.292475</td>\n",
       "      <td>0.071173</td>\n",
       "      <td>0.026776</td>\n",
       "    </tr>\n",
       "    <tr>\n",
       "      <th>114282</th>\n",
       "      <td>354494</td>\n",
       "      <td>69306</td>\n",
       "      <td>389</td>\n",
       "      <td>800</td>\n",
       "      <td>6.752708</td>\n",
       "      <td>5.397415</td>\n",
       "      <td>0.000000</td>\n",
       "      <td>205.101774</td>\n",
       "      <td>480</td>\n",
       "      <td>987</td>\n",
       "      <td>8.332391</td>\n",
       "      <td>6.659061</td>\n",
       "      <td>1.251286</td>\n",
       "      <td>55.485898</td>\n",
       "      <td>0.094330</td>\n",
       "      <td>0.116389</td>\n",
       "      <td>1.251100</td>\n",
       "      <td>0.017359</td>\n",
       "      <td>0.006747</td>\n",
       "    </tr>\n",
       "    <tr>\n",
       "      <th>114283</th>\n",
       "      <td>354495</td>\n",
       "      <td>69306</td>\n",
       "      <td>389</td>\n",
       "      <td>800</td>\n",
       "      <td>10.965352</td>\n",
       "      <td>28.532995</td>\n",
       "      <td>140.380601</td>\n",
       "      <td>273.772277</td>\n",
       "      <td>480</td>\n",
       "      <td>987</td>\n",
       "      <td>13.530511</td>\n",
       "      <td>35.202582</td>\n",
       "      <td>0.384361</td>\n",
       "      <td>476.308925</td>\n",
       "      <td>0.276379</td>\n",
       "      <td>0.341008</td>\n",
       "      <td>0.384304</td>\n",
       "      <td>0.028189</td>\n",
       "      <td>0.035666</td>\n",
       "    </tr>\n",
       "    <tr>\n",
       "      <th>114284</th>\n",
       "      <td>354496</td>\n",
       "      <td>69306</td>\n",
       "      <td>389</td>\n",
       "      <td>800</td>\n",
       "      <td>9.803678</td>\n",
       "      <td>8.053712</td>\n",
       "      <td>111.761930</td>\n",
       "      <td>259.677791</td>\n",
       "      <td>480</td>\n",
       "      <td>987</td>\n",
       "      <td>12.097083</td>\n",
       "      <td>9.936267</td>\n",
       "      <td>1.217468</td>\n",
       "      <td>120.199852</td>\n",
       "      <td>0.138839</td>\n",
       "      <td>0.171306</td>\n",
       "      <td>1.217287</td>\n",
       "      <td>0.025202</td>\n",
       "      <td>0.010067</td>\n",
       "    </tr>\n",
       "  </tbody>\n",
       "</table>\n",
       "<p>114252 rows × 19 columns</p>\n",
       "</div>"
      ],
      "text/plain": [
       "        ann_id  img_id  img_width  img_height   box_width  box_height  \\\n",
       "0           48      19        600         800  124.954568   96.974548   \n",
       "1           90      43        700         525   51.724490   54.296118   \n",
       "2           95      47        700         340  172.735602   83.031269   \n",
       "3           96      47        700         340   97.824353   35.234958   \n",
       "4           97      47        700         340  114.098491   22.535913   \n",
       "...        ...     ...        ...         ...         ...         ...   \n",
       "114280  354492   69306        389         800   10.063371   27.731015   \n",
       "114281  354493   69306        389         800   27.686104   21.420991   \n",
       "114282  354494   69306        389         800    6.752708    5.397415   \n",
       "114283  354495   69306        389         800   10.965352   28.532995   \n",
       "114284  354496   69306        389         800    9.803678    8.053712   \n",
       "\n",
       "              xmin        ymin  new_img_w  new_img_h     new_b_w     new_b_h  \\\n",
       "0       227.745941  540.717141        480        640   99.963655   77.579639   \n",
       "1       451.317370  231.818974        640        480   47.290962   49.642165   \n",
       "2       127.159570  148.221716        988        480  243.803963  117.220615   \n",
       "3       163.138863  283.297906        988        480  138.072087   49.743470   \n",
       "4       119.774202  273.185341        988        480  161.041870   31.815406   \n",
       "...            ...         ...        ...        ...         ...         ...   \n",
       "114280   61.841041  195.414461        480        987   12.417528   34.213139   \n",
       "114281    0.168818  212.691889        480        987   34.162802   26.428148   \n",
       "114282    0.000000  205.101774        480        987    8.332391    6.659061   \n",
       "114283  140.380601  273.772277        480        987   13.530511   35.202582   \n",
       "114284  111.761930  259.677791        480        987   12.097083    9.936267   \n",
       "\n",
       "        new_box_ar  new_box_area  area_scale  new_area_scale    box_ar  \\\n",
       "0         1.288530   7755.144190    1.719986        1.375989  1.288530   \n",
       "1         0.952637   2347.625745    0.828042        0.757067  0.952637   \n",
       "2         2.079873  28578.850463    1.871250        2.641450  2.080368   \n",
       "3         2.775683   6868.184754    0.917340        1.294914  2.776344   \n",
       "4         5.061757   5123.612496    0.792314        1.118428  5.062963   \n",
       "...            ...           ...         ...             ...       ...   \n",
       "114280    0.362946    424.842609    0.261021        0.322058  0.362892   \n",
       "114281    1.292667    902.859593    0.380514        0.469494  1.292475   \n",
       "114282    1.251286     55.485898    0.094330        0.116389  1.251100   \n",
       "114283    0.384361    476.308925    0.276379        0.341008  0.384304   \n",
       "114284    1.217468    120.199852    0.138839        0.171306  1.217287   \n",
       "\n",
       "        shifted_box_w  shifted_box_h  \n",
       "0            0.208258       0.121218  \n",
       "1            0.073892       0.103421  \n",
       "2            0.246765       0.244210  \n",
       "3            0.139749       0.103632  \n",
       "4            0.162998       0.066282  \n",
       "...               ...            ...  \n",
       "114280       0.025870       0.034664  \n",
       "114281       0.071173       0.026776  \n",
       "114282       0.017359       0.006747  \n",
       "114283       0.028189       0.035666  \n",
       "114284       0.025202       0.010067  \n",
       "\n",
       "[114252 rows x 19 columns]"
      ]
     },
     "execution_count": 226,
     "metadata": {},
     "output_type": "execute_result"
    }
   ],
   "source": [
    "box_df"
   ]
  },
  {
   "cell_type": "code",
   "execution_count": 245,
   "id": "9d35162a",
   "metadata": {},
   "outputs": [
    {
     "name": "stdout",
     "output_type": "stream",
     "text": [
      "(114252, 19)\n"
     ]
    }
   ],
   "source": [
    "box_df = pd.read_csv('./output_data/gt_box_info.csv')\n",
    "print(box_df.shape)"
   ]
  },
  {
   "cell_type": "code",
   "execution_count": 248,
   "id": "e4721bd9",
   "metadata": {},
   "outputs": [
    {
     "name": "stdout",
     "output_type": "stream",
     "text": [
      "114285\n"
     ]
    }
   ],
   "source": [
    "origin_scratch = json.load(open('/mmdetection/data/scratch/annotations/clean_old_scratch.json'))\n",
    "print(len(origin_scratch['annotations']))\n"
   ]
  },
  {
   "cell_type": "code",
   "execution_count": 249,
   "id": "4533ffc4",
   "metadata": {},
   "outputs": [],
   "source": [
    "import copy\n",
    "resize_box_data = copy.deepcopy(origin_scratch)"
   ]
  },
  {
   "cell_type": "code",
   "execution_count": 250,
   "id": "23fef96f",
   "metadata": {},
   "outputs": [],
   "source": [
    "new_box_width = box_df[['new_b_w']].values\n",
    "new_box_height = box_df[['new_b_h']].values\n",
    "new_img_width = box_df[['new_img_w']].values\n",
    "new_img_height = box_df[['new_img_h']].values"
   ]
  },
  {
   "cell_type": "code",
   "execution_count": null,
   "id": "d0dc0693",
   "metadata": {},
   "outputs": [],
   "source": [
    "resize_box_data['annotations'] = [ann for ann in origin_scratch['annotations'] if ann['id'] in list(box_df['ann_id'].values)]\n",
    "print(len(resize_box_data['annotations']))\n",
    "# for ann in resize_box_data['annotations']:\n",
    "    "
   ]
  },
  {
   "cell_type": "code",
   "execution_count": null,
   "id": "55d9d74d",
   "metadata": {},
   "outputs": [],
   "source": [
    "print([ann['id'] for ann in resize_box_data['annotations']] == list(box_df['ann_id'].values))"
   ]
  },
  {
   "cell_type": "code",
   "execution_count": 238,
   "id": "b311d14d",
   "metadata": {},
   "outputs": [
    {
     "data": {
      "text/plain": [
       "114252"
      ]
     },
     "execution_count": 238,
     "metadata": {},
     "output_type": "execute_result"
    }
   ],
   "source": [
    "len(list(box_df['ann_id'].values))"
   ]
  },
  {
   "cell_type": "code",
   "execution_count": 244,
   "id": "342b1d76",
   "metadata": {},
   "outputs": [
    {
     "data": {
      "text/plain": [
       "114285"
      ]
     },
     "execution_count": 244,
     "metadata": {},
     "output_type": "execute_result"
    }
   ],
   "source": [
    "id=[ann['id'] for ann in resize_box_data['annotations']]\n",
    "len(id)"
   ]
  },
  {
   "cell_type": "code",
   "execution_count": null,
   "id": "7dce887b",
   "metadata": {},
   "outputs": [],
   "source": [
    "for i,ann in enumerate(resize_box_data['annotations']):\n",
    "    ann['bbox'][2] = new_box_width[i]\n",
    "    ann['bbox'][3] = new_box_height[i]\n",
    "    \n"
   ]
  },
  {
   "cell_type": "code",
   "execution_count": null,
   "id": "e307d3da",
   "metadata": {},
   "outputs": [],
   "source": []
  },
  {
   "cell_type": "code",
   "execution_count": null,
   "id": "3a585a64",
   "metadata": {},
   "outputs": [],
   "source": []
  },
  {
   "cell_type": "code",
   "execution_count": null,
   "id": "1241dd86",
   "metadata": {},
   "outputs": [],
   "source": []
  },
  {
   "cell_type": "code",
   "execution_count": 257,
   "id": "8ca49e72",
   "metadata": {},
   "outputs": [
    {
     "name": "stdout",
     "output_type": "stream",
     "text": [
      "[[ 10.38715577   7.65618739]\n",
      " [ 60.6897024   36.21085438]\n",
      " [156.77326969  75.60741249]\n",
      " [ 29.01272731  15.1160221 ]\n",
      " [434.56329183 214.1370168 ]]\n"
     ]
    }
   ],
   "source": [
    "boxes = box_df[['box_width','box_height']].values\n",
    "clusters = kmeans(boxes,5)\n",
    "out_dict = clusters\n",
    "    \n",
    "print(out_dict)"
   ]
  },
  {
   "cell_type": "code",
   "execution_count": 258,
   "id": "af5e1b78",
   "metadata": {},
   "outputs": [
    {
     "name": "stdout",
     "output_type": "stream",
     "text": [
      "aspect ratio:  [0.73708218 0.59665566 0.48227235 0.52101348 0.4927637 ]\n",
      "scales:  [   43.20569735   782.35039853  2756.90061506   119.04851939\n",
      " 22595.51302311]\n",
      "scale/base_size:  [   5.   98.  345.   15. 2824.]\n"
     ]
    }
   ],
   "source": [
    "ar = out_dict[:,1]/out_dict[:,0]\n",
    "print('aspect ratio: ',ar)\n",
    "scale = np.square(out_dict[:,1])*ar\n",
    "print('scales: ', scale)\n",
    "print('scale/base_size: ', np.round(scale/8))"
   ]
  }
 ],
 "metadata": {
  "kernelspec": {
   "display_name": "Python 3 (ipykernel)",
   "language": "python",
   "name": "python3"
  },
  "language_info": {
   "codemirror_mode": {
    "name": "ipython",
    "version": 3
   },
   "file_extension": ".py",
   "mimetype": "text/x-python",
   "name": "python",
   "nbconvert_exporter": "python",
   "pygments_lexer": "ipython3",
   "version": "3.7.7"
  }
 },
 "nbformat": 4,
 "nbformat_minor": 5
}
