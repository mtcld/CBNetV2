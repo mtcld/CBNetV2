{
 "cells": [
  {
   "cell_type": "code",
   "execution_count": 1,
   "id": "8a9d2e26",
   "metadata": {},
   "outputs": [
    {
     "name": "stdout",
     "output_type": "stream",
     "text": [
      "[tensor([[-4.5000, -4.5000,  4.5000,  4.5000],\n",
      "        [11.5000, -4.5000, 20.5000,  4.5000],\n",
      "        [-4.5000, 11.5000,  4.5000, 20.5000],\n",
      "        [11.5000, 11.5000, 20.5000, 20.5000]])]\n"
     ]
    }
   ],
   "source": [
    "from mmdet.core import AnchorGenerator\n",
    "self = AnchorGenerator([16], [1.], [1.], [9])\n",
    "all_anchors = self.grid_priors([(2,2)], device='cpu')\n",
    "print(all_anchors)"
   ]
  },
  {
   "cell_type": "code",
   "execution_count": 2,
   "id": "df07fd8e",
   "metadata": {},
   "outputs": [
    {
     "name": "stdout",
     "output_type": "stream",
     "text": [
      "[tensor([[-4.5000, -4.5000,  4.5000,  4.5000],\n",
      "        [11.5000, -4.5000, 20.5000,  4.5000],\n",
      "        [-4.5000, 11.5000,  4.5000, 20.5000],\n",
      "        [11.5000, 11.5000, 20.5000, 20.5000]]), tensor([[-9., -9.,  9.,  9.]])]\n"
     ]
    }
   ],
   "source": [
    "self = AnchorGenerator([16,32], [1.], [1.], [9,18])\n",
    "all_anchors = self.grid_priors([(2,2), (1,1)], device='cpu')\n",
    "print(all_anchors)"
   ]
  },
  {
   "cell_type": "code",
   "execution_count": null,
   "id": "99d8f05f",
   "metadata": {},
   "outputs": [],
   "source": [
    "# len(featmap_sizes) =  len(strides)"
   ]
  },
  {
   "cell_type": "code",
   "execution_count": 41,
   "id": "66103e1a",
   "metadata": {},
   "outputs": [
    {
     "name": "stdout",
     "output_type": "stream",
     "text": [
      "torch.Size([12, 4])\n"
     ]
    }
   ],
   "source": [
    "self = AnchorGenerator(strides = [4,8,16,32,64], ratios = [0.5, 1.0, 2.0],\n",
    "                      scales= [1,2], base_sizes= None)\n",
    "all_anchors2 =self.grid_priors(featmap_sizes =[(2,1),(1,1),(1,1),(1,1),(1,1)], device='cpu')\n",
    "print(all_anchors2[0].shape)"
   ]
  },
  {
   "cell_type": "code",
   "execution_count": 39,
   "id": "97e72f18",
   "metadata": {},
   "outputs": [
    {
     "name": "stdout",
     "output_type": "stream",
     "text": [
      "torch.Size([72, 4])\n"
     ]
    }
   ],
   "source": [
    "self = AnchorGenerator(strides = [4,8,16,32,64], ratios = [0.5, 1.0, 2.0],\n",
    "                      scales= [1,2], base_sizes= None)\n",
    "all_anchors =self.grid_priors(featmap_sizes =[(3,4),(1,1),(1,1),(1,1),(1,1)], device='cpu')\n",
    "print(all_anchors[0].shape)"
   ]
  },
  {
   "cell_type": "code",
   "execution_count": 12,
   "id": "498cbf5f",
   "metadata": {
    "scrolled": true
   },
   "outputs": [
    {
     "name": "stdout",
     "output_type": "stream",
     "text": [
      "strides:  [[4], [8], [16], [32], [64]]\n",
      "number of feature levels that the generator will be applied 5\n",
      "base areas:  [16, 32, 64, 128, 256]\n",
      "---base anchors in a single-level feature map 0 with base_size 16: \n",
      " tensor([[-11.3137,  -5.6569,  11.3137,   5.6569],\n",
      "        [-22.6274, -11.3137,  22.6274,  11.3137],\n",
      "        [ -8.0000,  -8.0000,   8.0000,   8.0000],\n",
      "        [-16.0000, -16.0000,  16.0000,  16.0000],\n",
      "        [ -5.6569, -11.3137,   5.6569,  11.3137],\n",
      "        [-11.3137, -22.6274,  11.3137,  22.6274]])\n",
      "single_level_base_anchor shape: torch.Size([6, 4]) with 6 ratios, 4 coords: xmin, ymin, xmax, ymax (center: (0,0))\n",
      "---base anchors in a single-level feature map 1 with base_size 32: \n",
      " tensor([[-22.6274, -11.3137,  22.6274,  11.3137],\n",
      "        [-45.2548, -22.6274,  45.2548,  22.6274],\n",
      "        [-16.0000, -16.0000,  16.0000,  16.0000],\n",
      "        [-32.0000, -32.0000,  32.0000,  32.0000],\n",
      "        [-11.3137, -22.6274,  11.3137,  22.6274],\n",
      "        [-22.6274, -45.2548,  22.6274,  45.2548]])\n",
      "single_level_base_anchor shape: torch.Size([6, 4]) with 6 ratios, 4 coords: xmin, ymin, xmax, ymax (center: (0,0))\n",
      "---base anchors in a single-level feature map 2 with base_size 64: \n",
      " tensor([[-45.2548, -22.6274,  45.2548,  22.6274],\n",
      "        [-90.5097, -45.2548,  90.5097,  45.2548],\n",
      "        [-32.0000, -32.0000,  32.0000,  32.0000],\n",
      "        [-64.0000, -64.0000,  64.0000,  64.0000],\n",
      "        [-22.6274, -45.2548,  22.6274,  45.2548],\n",
      "        [-45.2548, -90.5097,  45.2548,  90.5097]])\n",
      "single_level_base_anchor shape: torch.Size([6, 4]) with 6 ratios, 4 coords: xmin, ymin, xmax, ymax (center: (0,0))\n",
      "---base anchors in a single-level feature map 3 with base_size 128: \n",
      " tensor([[ -90.5097,  -45.2548,   90.5097,   45.2548],\n",
      "        [-181.0193,  -90.5097,  181.0193,   90.5097],\n",
      "        [ -64.0000,  -64.0000,   64.0000,   64.0000],\n",
      "        [-128.0000, -128.0000,  128.0000,  128.0000],\n",
      "        [ -45.2548,  -90.5097,   45.2548,   90.5097],\n",
      "        [ -90.5097, -181.0193,   90.5097,  181.0193]])\n",
      "single_level_base_anchor shape: torch.Size([6, 4]) with 6 ratios, 4 coords: xmin, ymin, xmax, ymax (center: (0,0))\n",
      "---base anchors in a single-level feature map 4 with base_size 256: \n",
      " tensor([[-181.0193,  -90.5097,  181.0193,   90.5097],\n",
      "        [-362.0387, -181.0193,  362.0387,  181.0193],\n",
      "        [-128.0000, -128.0000,  128.0000,  128.0000],\n",
      "        [-256.0000, -256.0000,  256.0000,  256.0000],\n",
      "        [ -90.5097, -181.0193,   90.5097,  181.0193],\n",
      "        [-181.0193, -362.0387,  181.0193,  362.0387]])\n",
      "single_level_base_anchor shape: torch.Size([6, 4]) with 6 ratios, 4 coords: xmin, ymin, xmax, ymax (center: (0,0))\n",
      "[tensor([[-11.3137,  -5.6569,  11.3137,   5.6569],\n",
      "        [-22.6274, -11.3137,  22.6274,  11.3137],\n",
      "        [ -8.0000,  -8.0000,   8.0000,   8.0000],\n",
      "        [-16.0000, -16.0000,  16.0000,  16.0000],\n",
      "        [ -5.6569, -11.3137,   5.6569,  11.3137],\n",
      "        [-11.3137, -22.6274,  11.3137,  22.6274]]), tensor([[-22.6274, -11.3137,  22.6274,  11.3137],\n",
      "        [-45.2548, -22.6274,  45.2548,  22.6274],\n",
      "        [-16.0000, -16.0000,  16.0000,  16.0000],\n",
      "        [-32.0000, -32.0000,  32.0000,  32.0000],\n",
      "        [-11.3137, -22.6274,  11.3137,  22.6274],\n",
      "        [-22.6274, -45.2548,  22.6274,  45.2548]]), tensor([[-45.2548, -22.6274,  45.2548,  22.6274],\n",
      "        [-90.5097, -45.2548,  90.5097,  45.2548],\n",
      "        [-32.0000, -32.0000,  32.0000,  32.0000],\n",
      "        [-64.0000, -64.0000,  64.0000,  64.0000],\n",
      "        [-22.6274, -45.2548,  22.6274,  45.2548],\n",
      "        [-45.2548, -90.5097,  45.2548,  90.5097]]), tensor([[ -90.5097,  -45.2548,   90.5097,   45.2548],\n",
      "        [-181.0193,  -90.5097,  181.0193,   90.5097],\n",
      "        [ -64.0000,  -64.0000,   64.0000,   64.0000],\n",
      "        [-128.0000, -128.0000,  128.0000,  128.0000],\n",
      "        [ -45.2548,  -90.5097,   45.2548,   90.5097],\n",
      "        [ -90.5097, -181.0193,   90.5097,  181.0193]]), tensor([[-181.0193,  -90.5097,  181.0193,   90.5097],\n",
      "        [-362.0387, -181.0193,  362.0387,  181.0193],\n",
      "        [-128.0000, -128.0000,  128.0000,  128.0000],\n",
      "        [-256.0000, -256.0000,  256.0000,  256.0000],\n",
      "        [ -90.5097, -181.0193,   90.5097,  181.0193],\n",
      "        [-181.0193, -362.0387,  181.0193,  362.0387]])]\n"
     ]
    }
   ],
   "source": [
    "import torch\n",
    "from torch.nn.modules.utils import _pair\n",
    "from mmdet.core import AnchorGenerator\n",
    "\n",
    "strides = [[4],[8],[16],[32],[64]]\n",
    "ratios = torch.Tensor([0.5, 1.0, 2.0])\n",
    "\n",
    "base_sizes = [16,32,64,128, 256]\n",
    "# base_sizes = None\n",
    "strides = [_pair(stride) for stride in strides]\n",
    "print('strides: ', (strides))\n",
    "scales= torch.Tensor([1,2])\n",
    "self = AnchorGenerator(strides, ratios, scales, base_sizes)\n",
    "print('number of feature levels that the generator will be applied',self.num_levels)\n",
    "\n",
    "base_sizes = [min(stride) for stride in strides] if base_sizes is None else base_sizes\n",
    "\n",
    "print('base areas: ', base_sizes)\n",
    "multi_level_base_anchors = []\n",
    "for i, base_size in enumerate(base_sizes):\n",
    "    single_level_base_anchor = self.gen_single_level_base_anchors(base_size, scales, ratios, center=None)\n",
    "    print(f\"---base anchors in a single-level feature map {i} with base_size {base_size}: \\n\", single_level_base_anchor)\n",
    "    print(f\"single_level_base_anchor shape: {single_level_base_anchor.shape} with {single_level_base_anchor.shape[0]} ratios, {single_level_base_anchor.shape[1]} coords: xmin, ymin, xmax, ymax (center: (0,0))\")\n",
    "    multi_level_base_anchors.append(single_level_base_anchor)\n",
    "    \n",
    "print(multi_level_base_anchors)"
   ]
  },
  {
   "cell_type": "code",
   "execution_count": 14,
   "id": "cc94aa84",
   "metadata": {},
   "outputs": [
    {
     "name": "stdout",
     "output_type": "stream",
     "text": [
      "strides:  [[4], [8], [16], [32], [64]]\n",
      "number of feature levels that the generator will be applied 5\n",
      "base areas:  [16, 32, 64, 128, 256]\n",
      "---base anchors in a single-level feature map 0 with base_size 16: \n",
      " tensor([[-11.3137,  -5.6569,  11.3137,   5.6569],\n",
      "        [ -8.0000,  -8.0000,   8.0000,   8.0000],\n",
      "        [ -5.6569, -11.3137,   5.6569,  11.3137]])\n",
      "single_level_base_anchor shape: torch.Size([3, 4]) with 3 ratios, 4 coords: xmin, ymin, xmax, ymax (center: (0,0))\n",
      "---base anchors in a single-level feature map 1 with base_size 32: \n",
      " tensor([[-22.6274, -11.3137,  22.6274,  11.3137],\n",
      "        [-16.0000, -16.0000,  16.0000,  16.0000],\n",
      "        [-11.3137, -22.6274,  11.3137,  22.6274]])\n",
      "single_level_base_anchor shape: torch.Size([3, 4]) with 3 ratios, 4 coords: xmin, ymin, xmax, ymax (center: (0,0))\n",
      "---base anchors in a single-level feature map 2 with base_size 64: \n",
      " tensor([[-45.2548, -22.6274,  45.2548,  22.6274],\n",
      "        [-32.0000, -32.0000,  32.0000,  32.0000],\n",
      "        [-22.6274, -45.2548,  22.6274,  45.2548]])\n",
      "single_level_base_anchor shape: torch.Size([3, 4]) with 3 ratios, 4 coords: xmin, ymin, xmax, ymax (center: (0,0))\n",
      "---base anchors in a single-level feature map 3 with base_size 128: \n",
      " tensor([[-90.5097, -45.2548,  90.5097,  45.2548],\n",
      "        [-64.0000, -64.0000,  64.0000,  64.0000],\n",
      "        [-45.2548, -90.5097,  45.2548,  90.5097]])\n",
      "single_level_base_anchor shape: torch.Size([3, 4]) with 3 ratios, 4 coords: xmin, ymin, xmax, ymax (center: (0,0))\n",
      "---base anchors in a single-level feature map 4 with base_size 256: \n",
      " tensor([[-181.0193,  -90.5097,  181.0193,   90.5097],\n",
      "        [-128.0000, -128.0000,  128.0000,  128.0000],\n",
      "        [ -90.5097, -181.0193,   90.5097,  181.0193]])\n",
      "single_level_base_anchor shape: torch.Size([3, 4]) with 3 ratios, 4 coords: xmin, ymin, xmax, ymax (center: (0,0))\n",
      "[tensor([[-11.3137,  -5.6569,  11.3137,   5.6569],\n",
      "        [ -8.0000,  -8.0000,   8.0000,   8.0000],\n",
      "        [ -5.6569, -11.3137,   5.6569,  11.3137]]), tensor([[-22.6274, -11.3137,  22.6274,  11.3137],\n",
      "        [-16.0000, -16.0000,  16.0000,  16.0000],\n",
      "        [-11.3137, -22.6274,  11.3137,  22.6274]]), tensor([[-45.2548, -22.6274,  45.2548,  22.6274],\n",
      "        [-32.0000, -32.0000,  32.0000,  32.0000],\n",
      "        [-22.6274, -45.2548,  22.6274,  45.2548]]), tensor([[-90.5097, -45.2548,  90.5097,  45.2548],\n",
      "        [-64.0000, -64.0000,  64.0000,  64.0000],\n",
      "        [-45.2548, -90.5097,  45.2548,  90.5097]]), tensor([[-181.0193,  -90.5097,  181.0193,   90.5097],\n",
      "        [-128.0000, -128.0000,  128.0000,  128.0000],\n",
      "        [ -90.5097, -181.0193,   90.5097,  181.0193]])]\n"
     ]
    }
   ],
   "source": [
    "import torch\n",
    "from torch.nn.modules.utils import _pair\n",
    "from mmdet.core import AnchorGenerator\n",
    "\n",
    "strides = [[4],[8],[16],[32],[64]]\n",
    "ratios = torch.Tensor([0.5, 1.0, 2.0])\n",
    "\n",
    "base_sizes = [16,32,64,128, 256]\n",
    "\n",
    "# base_sizes = None\n",
    "strides = [_pair(stride) for stride in strides]\n",
    "print('strides: ', (strides))\n",
    "scales= torch.Tensor([1])\n",
    "self = AnchorGenerator(strides, ratios, scales, base_sizes)\n",
    "print('number of feature levels that the generator will be applied',self.num_levels)\n",
    "\n",
    "base_sizes = [min(stride) for stride in strides] if base_sizes is None else base_sizes\n",
    "\n",
    "print('base areas: ', base_sizes)\n",
    "multi_level_base_anchors = []\n",
    "for i, base_size in enumerate(base_sizes):\n",
    "    single_level_base_anchor = self.gen_single_level_base_anchors(base_size, scales, ratios, center=None)\n",
    "    print(f\"---base anchors in a single-level feature map {i} with base_size {base_size}: \\n\", single_level_base_anchor)\n",
    "    print(f\"single_level_base_anchor shape: {single_level_base_anchor.shape} with {single_level_base_anchor.shape[0]} ratios, {single_level_base_anchor.shape[1]} coords: xmin, ymin, xmax, ymax (center: (0,0))\")\n",
    "    multi_level_base_anchors.append(single_level_base_anchor)\n",
    "    \n",
    "print(multi_level_base_anchors)"
   ]
  },
  {
   "cell_type": "markdown",
   "id": "1494cdd0",
   "metadata": {},
   "source": [
    "## anchor boxes will be generated by model version 13"
   ]
  },
  {
   "cell_type": "code",
   "execution_count": 15,
   "id": "dc7c1a77",
   "metadata": {},
   "outputs": [
    {
     "name": "stdout",
     "output_type": "stream",
     "text": [
      "strides:  [[4], [8], [16], [32], [64]]\n",
      "number of feature levels that the generator will be applied 5\n",
      "base areas:  [30, 99, 177, 262, 368]\n",
      "---base anchors in a single-level feature map 0 with base_size 30: \n",
      " tensor([[-25.5964,  -8.7903,  25.5964,   8.7903],\n",
      "        [-29.4358, -10.1089,  29.4358,  10.1089],\n",
      "        [-33.2753, -11.4274,  33.2753,  11.4274],\n",
      "        [-15.4424, -14.5703,  15.4424,  14.5703],\n",
      "        [-17.7588, -16.7558,  17.7588,  16.7558],\n",
      "        [-20.0751, -18.9414,  20.0751,  18.9414],\n",
      "        [-10.8222, -20.7906,  10.8222,  20.7906],\n",
      "        [-12.4455, -23.9092,  12.4455,  23.9092],\n",
      "        [-14.0689, -27.0278,  14.0689,  27.0278],\n",
      "        [ -7.7195, -29.1470,   7.7195,  29.1470],\n",
      "        [ -8.8774, -33.5190,   8.8774,  33.5190],\n",
      "        [-10.0353, -37.8911,  10.0353,  37.8911],\n",
      "        [ -5.4467, -41.3094,   5.4467,  41.3094],\n",
      "        [ -6.2637, -47.5058,   6.2637,  47.5058],\n",
      "        [ -7.0807, -53.7022,   7.0807,  53.7022]])\n",
      "single_level_base_anchor shape: torch.Size([15, 4]) with 15 ratios, 4 coords: xmin, ymin, xmax, ymax (center: (0,0))\n",
      "---base anchors in a single-level feature map 1 with base_size 99: \n",
      " tensor([[ -84.4680,  -29.0080,   84.4680,   29.0080],\n",
      "        [ -97.1382,  -33.3592,   97.1382,   33.3592],\n",
      "        [-109.8084,  -37.7104,  109.8084,   37.7104],\n",
      "        [ -50.9599,  -48.0819,   50.9599,   48.0819],\n",
      "        [ -58.6039,  -55.2942,   58.6039,   55.2942],\n",
      "        [ -66.2479,  -62.5065,   66.2479,   62.5065],\n",
      "        [ -35.7133,  -68.6090,   35.7133,   68.6090],\n",
      "        [ -41.0702,  -78.9003,   41.0702,   78.9003],\n",
      "        [ -46.4272,  -89.1917,   46.4272,   89.1917],\n",
      "        [ -25.4743,  -96.1850,   25.4743,   96.1850],\n",
      "        [ -29.2955, -110.6127,   29.2955,  110.6127],\n",
      "        [ -33.1166, -125.0405,   33.1166,  125.0405],\n",
      "        [ -17.9741, -136.3211,   17.9741,  136.3211],\n",
      "        [ -20.6702, -156.7692,   20.6702,  156.7692],\n",
      "        [ -23.3663, -177.2174,   23.3663,  177.2174]])\n",
      "single_level_base_anchor shape: torch.Size([15, 4]) with 15 ratios, 4 coords: xmin, ymin, xmax, ymax (center: (0,0))\n",
      "---base anchors in a single-level feature map 2 with base_size 177: \n",
      " tensor([[-151.0186,  -51.8628,  151.0186,   51.8628],\n",
      "        [-173.6713,  -59.6423,  173.6713,   59.6423],\n",
      "        [-196.3241,  -67.4217,  196.3241,   67.4217],\n",
      "        [ -91.1102,  -85.9646,   91.1102,   85.9646],\n",
      "        [-104.7767,  -98.8593,  104.7767,   98.8593],\n",
      "        [-118.4432, -111.7540,  118.4432,  111.7540],\n",
      "        [ -63.8510, -122.6645,   63.8510,  122.6645],\n",
      "        [ -73.4286, -141.0642,   73.4286,  141.0642],\n",
      "        [ -83.0063, -159.4639,   83.0063,  159.4639],\n",
      "        [ -45.5450, -171.9671,   45.5450,  171.9671],\n",
      "        [ -52.3768, -197.7622,   52.3768,  197.7622],\n",
      "        [ -59.2086, -223.5573,   59.2086,  223.5573],\n",
      "        [ -32.1355, -243.7255,   32.1355,  243.7255],\n",
      "        [ -36.9559, -280.2844,   36.9559,  280.2844],\n",
      "        [ -41.7762, -316.8432,   41.7762,  316.8432]])\n",
      "single_level_base_anchor shape: torch.Size([15, 4]) with 15 ratios, 4 coords: xmin, ymin, xmax, ymax (center: (0,0))\n",
      "---base anchors in a single-level feature map 3 with base_size 262: \n",
      " tensor([[-223.5416,  -76.7687,  223.5416,   76.7687],\n",
      "        [-257.0728,  -88.2840,  257.0728,   88.2840],\n",
      "        [-290.6041,  -99.7993,  290.6041,   99.7993],\n",
      "        [-134.8636, -127.2470,  134.8636,  127.2470],\n",
      "        [-155.0932, -146.3341,  155.0932,  146.3341],\n",
      "        [-175.3227, -165.4211,  175.3227,  165.4211],\n",
      "        [ -94.5139, -181.5712,   94.5139,  181.5712],\n",
      "        [-108.6909, -208.8069,  108.6909,  208.8069],\n",
      "        [-122.8680, -236.0426,  122.8680,  236.0426],\n",
      "        [ -67.4170, -254.5502,   67.4170,  254.5502],\n",
      "        [ -77.5295, -292.7327,   77.5295,  292.7327],\n",
      "        [ -87.6420, -330.9152,   87.6420,  330.9152],\n",
      "        [ -47.5679, -360.7689,   47.5679,  360.7689],\n",
      "        [ -54.7030, -414.8842,   54.7030,  414.8842],\n",
      "        [ -61.8382, -468.9995,   61.8382,  468.9995]])\n",
      "single_level_base_anchor shape: torch.Size([15, 4]) with 15 ratios, 4 coords: xmin, ymin, xmax, ymax (center: (0,0))\n",
      "---base anchors in a single-level feature map 4 with base_size 368: \n",
      " tensor([[-313.9821, -107.8278,  313.9821,  107.8278],\n",
      "        [-361.0794, -124.0020,  361.0794,  124.0020],\n",
      "        [-408.1767, -140.1761,  408.1767,  140.1761],\n",
      "        [-189.4268, -178.7287,  189.4268,  178.7287],\n",
      "        [-217.8408, -205.5380,  217.8408,  205.5380],\n",
      "        [-246.2548, -232.3473,  246.2548,  232.3473],\n",
      "        [-132.7523, -255.0313,  132.7523,  255.0313],\n",
      "        [-152.6651, -293.2860,  152.6651,  293.2860],\n",
      "        [-172.5780, -331.5407,  172.5780,  331.5407],\n",
      "        [ -94.6925, -357.5361,   94.6925,  357.5361],\n",
      "        [-108.8964, -411.1665,  108.8964,  411.1665],\n",
      "        [-123.1003, -464.7970,  123.1003,  464.7970],\n",
      "        [ -66.8129, -506.7288,   66.8129,  506.7288],\n",
      "        [ -76.8348, -582.7381,   76.8348,  582.7381],\n",
      "        [ -86.8567, -658.7474,   86.8567,  658.7474]])\n",
      "single_level_base_anchor shape: torch.Size([15, 4]) with 15 ratios, 4 coords: xmin, ymin, xmax, ymax (center: (0,0))\n",
      "[tensor([[-25.5964,  -8.7903,  25.5964,   8.7903],\n",
      "        [-29.4358, -10.1089,  29.4358,  10.1089],\n",
      "        [-33.2753, -11.4274,  33.2753,  11.4274],\n",
      "        [-15.4424, -14.5703,  15.4424,  14.5703],\n",
      "        [-17.7588, -16.7558,  17.7588,  16.7558],\n",
      "        [-20.0751, -18.9414,  20.0751,  18.9414],\n",
      "        [-10.8222, -20.7906,  10.8222,  20.7906],\n",
      "        [-12.4455, -23.9092,  12.4455,  23.9092],\n",
      "        [-14.0689, -27.0278,  14.0689,  27.0278],\n",
      "        [ -7.7195, -29.1470,   7.7195,  29.1470],\n",
      "        [ -8.8774, -33.5190,   8.8774,  33.5190],\n",
      "        [-10.0353, -37.8911,  10.0353,  37.8911],\n",
      "        [ -5.4467, -41.3094,   5.4467,  41.3094],\n",
      "        [ -6.2637, -47.5058,   6.2637,  47.5058],\n",
      "        [ -7.0807, -53.7022,   7.0807,  53.7022]]), tensor([[ -84.4680,  -29.0080,   84.4680,   29.0080],\n",
      "        [ -97.1382,  -33.3592,   97.1382,   33.3592],\n",
      "        [-109.8084,  -37.7104,  109.8084,   37.7104],\n",
      "        [ -50.9599,  -48.0819,   50.9599,   48.0819],\n",
      "        [ -58.6039,  -55.2942,   58.6039,   55.2942],\n",
      "        [ -66.2479,  -62.5065,   66.2479,   62.5065],\n",
      "        [ -35.7133,  -68.6090,   35.7133,   68.6090],\n",
      "        [ -41.0702,  -78.9003,   41.0702,   78.9003],\n",
      "        [ -46.4272,  -89.1917,   46.4272,   89.1917],\n",
      "        [ -25.4743,  -96.1850,   25.4743,   96.1850],\n",
      "        [ -29.2955, -110.6127,   29.2955,  110.6127],\n",
      "        [ -33.1166, -125.0405,   33.1166,  125.0405],\n",
      "        [ -17.9741, -136.3211,   17.9741,  136.3211],\n",
      "        [ -20.6702, -156.7692,   20.6702,  156.7692],\n",
      "        [ -23.3663, -177.2174,   23.3663,  177.2174]]), tensor([[-151.0186,  -51.8628,  151.0186,   51.8628],\n",
      "        [-173.6713,  -59.6423,  173.6713,   59.6423],\n",
      "        [-196.3241,  -67.4217,  196.3241,   67.4217],\n",
      "        [ -91.1102,  -85.9646,   91.1102,   85.9646],\n",
      "        [-104.7767,  -98.8593,  104.7767,   98.8593],\n",
      "        [-118.4432, -111.7540,  118.4432,  111.7540],\n",
      "        [ -63.8510, -122.6645,   63.8510,  122.6645],\n",
      "        [ -73.4286, -141.0642,   73.4286,  141.0642],\n",
      "        [ -83.0063, -159.4639,   83.0063,  159.4639],\n",
      "        [ -45.5450, -171.9671,   45.5450,  171.9671],\n",
      "        [ -52.3768, -197.7622,   52.3768,  197.7622],\n",
      "        [ -59.2086, -223.5573,   59.2086,  223.5573],\n",
      "        [ -32.1355, -243.7255,   32.1355,  243.7255],\n",
      "        [ -36.9559, -280.2844,   36.9559,  280.2844],\n",
      "        [ -41.7762, -316.8432,   41.7762,  316.8432]]), tensor([[-223.5416,  -76.7687,  223.5416,   76.7687],\n",
      "        [-257.0728,  -88.2840,  257.0728,   88.2840],\n",
      "        [-290.6041,  -99.7993,  290.6041,   99.7993],\n",
      "        [-134.8636, -127.2470,  134.8636,  127.2470],\n",
      "        [-155.0932, -146.3341,  155.0932,  146.3341],\n",
      "        [-175.3227, -165.4211,  175.3227,  165.4211],\n",
      "        [ -94.5139, -181.5712,   94.5139,  181.5712],\n",
      "        [-108.6909, -208.8069,  108.6909,  208.8069],\n",
      "        [-122.8680, -236.0426,  122.8680,  236.0426],\n",
      "        [ -67.4170, -254.5502,   67.4170,  254.5502],\n",
      "        [ -77.5295, -292.7327,   77.5295,  292.7327],\n",
      "        [ -87.6420, -330.9152,   87.6420,  330.9152],\n",
      "        [ -47.5679, -360.7689,   47.5679,  360.7689],\n",
      "        [ -54.7030, -414.8842,   54.7030,  414.8842],\n",
      "        [ -61.8382, -468.9995,   61.8382,  468.9995]]), tensor([[-313.9821, -107.8278,  313.9821,  107.8278],\n",
      "        [-361.0794, -124.0020,  361.0794,  124.0020],\n",
      "        [-408.1767, -140.1761,  408.1767,  140.1761],\n",
      "        [-189.4268, -178.7287,  189.4268,  178.7287],\n",
      "        [-217.8408, -205.5380,  217.8408,  205.5380],\n",
      "        [-246.2548, -232.3473,  246.2548,  232.3473],\n",
      "        [-132.7523, -255.0313,  132.7523,  255.0313],\n",
      "        [-152.6651, -293.2860,  152.6651,  293.2860],\n",
      "        [-172.5780, -331.5407,  172.5780,  331.5407],\n",
      "        [ -94.6925, -357.5361,   94.6925,  357.5361],\n",
      "        [-108.8964, -411.1665,  108.8964,  411.1665],\n",
      "        [-123.1003, -464.7970,  123.1003,  464.7970],\n",
      "        [ -66.8129, -506.7288,   66.8129,  506.7288],\n",
      "        [ -76.8348, -582.7381,   76.8348,  582.7381],\n",
      "        [ -86.8567, -658.7474,   86.8567,  658.7474]])]\n"
     ]
    }
   ],
   "source": [
    "import torch\n",
    "from torch.nn.modules.utils import _pair\n",
    "from mmdet.core import AnchorGenerator\n",
    "\n",
    "strides = [[4],[8],[16],[32],[64]]\n",
    "ratios = torch.Tensor([0.3434203,0.94352366,1.92110634,3.7757587,7.58430032])\n",
    "\n",
    "# base_sizes = [16,32,64,128, 256]\n",
    "base_sizes = [30,99,177,262,368]\n",
    "\n",
    "# base_sizes = None\n",
    "strides = [_pair(stride) for stride in strides]\n",
    "print('strides: ', (strides))\n",
    "scales= torch.Tensor([1,1.15,1.3])\n",
    "self = AnchorGenerator(strides, ratios, scales, base_sizes)\n",
    "print('number of feature levels that the generator will be applied',self.num_levels)\n",
    "\n",
    "base_sizes = [min(stride) for stride in strides] if base_sizes is None else base_sizes\n",
    "\n",
    "print('base areas: ', base_sizes)\n",
    "multi_level_base_anchors = []\n",
    "for i, base_size in enumerate(base_sizes):\n",
    "    single_level_base_anchor = self.gen_single_level_base_anchors(base_size, scales, ratios, center=None)\n",
    "    print(f\"---base anchors in a single-level feature map {i} with base_size {base_size}: \\n\", single_level_base_anchor)\n",
    "    print(f\"single_level_base_anchor shape: {single_level_base_anchor.shape} with {single_level_base_anchor.shape[0]} ratios, {single_level_base_anchor.shape[1]} coords: xmin, ymin, xmax, ymax (center: (0,0))\")\n",
    "    multi_level_base_anchors.append(single_level_base_anchor)\n",
    "    \n",
    "print(multi_level_base_anchors)"
   ]
  },
  {
   "cell_type": "code",
   "execution_count": 96,
   "id": "ec62e270",
   "metadata": {},
   "outputs": [
    {
     "name": "stdout",
     "output_type": "stream",
     "text": [
      "single_level_grid_anchors 0: \n",
      " tensor([[-2.8284, -1.4142,  2.8284,  1.4142],\n",
      "        [-2.0000, -2.0000,  2.0000,  2.0000],\n",
      "        [-1.4142, -2.8284,  1.4142,  2.8284]])\n",
      "single_level_grid_anchors 1: \n",
      " tensor([[-5.6569, -2.8284,  5.6569,  2.8284],\n",
      "        [-4.0000, -4.0000,  4.0000,  4.0000],\n",
      "        [-2.8284, -5.6569,  2.8284,  5.6569]])\n",
      "single_level_grid_anchors 2: \n",
      " tensor([[-11.3137,  -5.6569,  11.3137,   5.6569],\n",
      "        [ -8.0000,  -8.0000,   8.0000,   8.0000],\n",
      "        [ -5.6569, -11.3137,   5.6569,  11.3137]])\n",
      "single_level_grid_anchors 3: \n",
      " tensor([[-22.6274, -11.3137,  22.6274,  11.3137],\n",
      "        [-16.0000, -16.0000,  16.0000,  16.0000],\n",
      "        [-11.3137, -22.6274,  11.3137,  22.6274]])\n",
      "single_level_grid_anchors 4: \n",
      " tensor([[-45.2548, -22.6274,  45.2548,  22.6274],\n",
      "        [-32.0000, -32.0000,  32.0000,  32.0000],\n",
      "        [-22.6274, -45.2548,  22.6274,  45.2548]])\n",
      "[tensor([[-2.8284, -1.4142,  2.8284,  1.4142],\n",
      "        [-2.0000, -2.0000,  2.0000,  2.0000],\n",
      "        [-1.4142, -2.8284,  1.4142,  2.8284]]), tensor([[-5.6569, -2.8284,  5.6569,  2.8284],\n",
      "        [-4.0000, -4.0000,  4.0000,  4.0000],\n",
      "        [-2.8284, -5.6569,  2.8284,  5.6569]]), tensor([[-11.3137,  -5.6569,  11.3137,   5.6569],\n",
      "        [ -8.0000,  -8.0000,   8.0000,   8.0000],\n",
      "        [ -5.6569, -11.3137,   5.6569,  11.3137]]), tensor([[-22.6274, -11.3137,  22.6274,  11.3137],\n",
      "        [-16.0000, -16.0000,  16.0000,  16.0000],\n",
      "        [-11.3137, -22.6274,  11.3137,  22.6274]]), tensor([[-45.2548, -22.6274,  45.2548,  22.6274],\n",
      "        [-32.0000, -32.0000,  32.0000,  32.0000],\n",
      "        [-22.6274, -45.2548,  22.6274,  45.2548]])]\n"
     ]
    }
   ],
   "source": [
    "featmap_sizes = [(1,1), (1,1),(1,1), (1,1), (1,1)]\n",
    "num_levels = len(featmap_size)\n",
    "multi_level_grid_anchors = []\n",
    "for i in range(num_levels):\n",
    "    single_level_grid_anchors = self.single_level_grid_priors(featmap_size=featmap_sizes[i], level_idx = i,device='cpu')\n",
    "    print(f\"single_level_grid_anchors {i}: \\n {single_level_grid_anchors}\")\n",
    "    multi_level_grid_anchors.append(single_level_grid_anchors)\n",
    "    \n",
    "print(multi_level_grid_anchors)\n",
    "    "
   ]
  },
  {
   "cell_type": "code",
   "execution_count": 24,
   "id": "ab52bbb3",
   "metadata": {
    "scrolled": false
   },
   "outputs": [
    {
     "name": "stdout",
     "output_type": "stream",
     "text": [
      "[tensor([[-2.8284, -1.4142,  2.8284,  1.4142],\n",
      "        [-2.0000, -2.0000,  2.0000,  2.0000],\n",
      "        [-1.4142, -2.8284,  1.4142,  2.8284]]), tensor([[-5.6569, -2.8284,  5.6569,  2.8284],\n",
      "        [-4.0000, -4.0000,  4.0000,  4.0000],\n",
      "        [-2.8284, -5.6569,  2.8284,  5.6569]]), tensor([[-11.3137,  -5.6569,  11.3137,   5.6569],\n",
      "        [ -8.0000,  -8.0000,   8.0000,   8.0000],\n",
      "        [ -5.6569, -11.3137,   5.6569,  11.3137]]), tensor([[-22.6274, -11.3137,  22.6274,  11.3137],\n",
      "        [-16.0000, -16.0000,  16.0000,  16.0000],\n",
      "        [-11.3137, -22.6274,  11.3137,  22.6274]]), tensor([[-45.2548, -22.6274,  45.2548,  22.6274],\n",
      "        [-32.0000, -32.0000,  32.0000,  32.0000],\n",
      "        [-22.6274, -45.2548,  22.6274,  45.2548]])]\n"
     ]
    }
   ],
   "source": [
    "self = AnchorGenerator(strides = [4,8,16,32,64], ratios = [0.5, 1.0, 2.0],\n",
    "                      scales= [1], base_sizes= None)\n",
    "all_anchors1 =self.grid_priors(featmap_sizes =[(1,1),(1,1),(1,1),(1,1),(1,1)], device='cpu')\n",
    "print(all_anchors1)"
   ]
  },
  {
   "cell_type": "code",
   "execution_count": 81,
   "id": "7bacc2b6",
   "metadata": {},
   "outputs": [
    {
     "name": "stdout",
     "output_type": "stream",
     "text": [
      "[tensor([[-2.8284, -1.4142,  2.8284,  1.4142],\n",
      "        [-2.0000, -2.0000,  2.0000,  2.0000],\n",
      "        [-1.4142, -2.8284,  1.4142,  2.8284],\n",
      "        [-2.8284,  2.5858,  2.8284,  5.4142],\n",
      "        [-2.0000,  2.0000,  2.0000,  6.0000],\n",
      "        [-1.4142,  1.1716,  1.4142,  6.8284]]), tensor([[-5.6569, -2.8284,  5.6569,  2.8284],\n",
      "        [-4.0000, -4.0000,  4.0000,  4.0000],\n",
      "        [-2.8284, -5.6569,  2.8284,  5.6569]]), tensor([[-11.3137,  -5.6569,  11.3137,   5.6569],\n",
      "        [ -8.0000,  -8.0000,   8.0000,   8.0000],\n",
      "        [ -5.6569, -11.3137,   5.6569,  11.3137]]), tensor([[-22.6274, -11.3137,  22.6274,  11.3137],\n",
      "        [-16.0000, -16.0000,  16.0000,  16.0000],\n",
      "        [-11.3137, -22.6274,  11.3137,  22.6274]]), tensor([[-45.2548, -22.6274,  45.2548,  22.6274],\n",
      "        [-32.0000, -32.0000,  32.0000,  32.0000],\n",
      "        [-22.6274, -45.2548,  22.6274,  45.2548]])]\n"
     ]
    }
   ],
   "source": [
    "self = AnchorGenerator(strides = [4,8,16,32,64], ratios = [0.5, 1.0, 2.0],\n",
    "                      scales= [1], base_sizes= None)\n",
    "all_anchors1 =self.grid_priors(featmap_sizes =[(2,1),(1,1),(1,1),(1,1),(1,1)], device='cpu')\n",
    "print(all_anchors1)"
   ]
  },
  {
   "cell_type": "code",
   "execution_count": 82,
   "id": "2860d4fc",
   "metadata": {},
   "outputs": [
    {
     "name": "stdout",
     "output_type": "stream",
     "text": [
      "[tensor([[-2.8284, -1.4142,  2.8284,  1.4142],\n",
      "        [-2.0000, -2.0000,  2.0000,  2.0000],\n",
      "        [-1.4142, -2.8284,  1.4142,  2.8284],\n",
      "        [ 1.1716, -1.4142,  6.8284,  1.4142],\n",
      "        [ 2.0000, -2.0000,  6.0000,  2.0000],\n",
      "        [ 2.5858, -2.8284,  5.4142,  2.8284]]), tensor([[-5.6569, -2.8284,  5.6569,  2.8284],\n",
      "        [-4.0000, -4.0000,  4.0000,  4.0000],\n",
      "        [-2.8284, -5.6569,  2.8284,  5.6569]]), tensor([[-11.3137,  -5.6569,  11.3137,   5.6569],\n",
      "        [ -8.0000,  -8.0000,   8.0000,   8.0000],\n",
      "        [ -5.6569, -11.3137,   5.6569,  11.3137]]), tensor([[-22.6274, -11.3137,  22.6274,  11.3137],\n",
      "        [-16.0000, -16.0000,  16.0000,  16.0000],\n",
      "        [-11.3137, -22.6274,  11.3137,  22.6274]]), tensor([[-45.2548, -22.6274,  45.2548,  22.6274],\n",
      "        [-32.0000, -32.0000,  32.0000,  32.0000],\n",
      "        [-22.6274, -45.2548,  22.6274,  45.2548]])]\n"
     ]
    }
   ],
   "source": [
    "self = AnchorGenerator(strides = [4,8,16,32,64], ratios = [0.5, 1.0, 2.0],\n",
    "                      scales= [1], base_sizes= None)\n",
    "all_anchors1 =self.grid_priors(featmap_sizes =[(1,2),(1,1),(1,1),(1,1),(1,1)], device='cpu')\n",
    "print(all_anchors1)"
   ]
  },
  {
   "cell_type": "code",
   "execution_count": 85,
   "id": "69ef27b6",
   "metadata": {},
   "outputs": [
    {
     "name": "stdout",
     "output_type": "stream",
     "text": [
      "[tensor([[-2.8284, -1.4142,  2.8284,  1.4142],\n",
      "        [-2.0000, -2.0000,  2.0000,  2.0000],\n",
      "        [-1.4142, -2.8284,  1.4142,  2.8284],\n",
      "        [ 1.1716, -1.4142,  6.8284,  1.4142],\n",
      "        [ 2.0000, -2.0000,  6.0000,  2.0000],\n",
      "        [ 2.5858, -2.8284,  5.4142,  2.8284],\n",
      "        [-2.8284,  2.5858,  2.8284,  5.4142],\n",
      "        [-2.0000,  2.0000,  2.0000,  6.0000],\n",
      "        [-1.4142,  1.1716,  1.4142,  6.8284],\n",
      "        [ 1.1716,  2.5858,  6.8284,  5.4142],\n",
      "        [ 2.0000,  2.0000,  6.0000,  6.0000],\n",
      "        [ 2.5858,  1.1716,  5.4142,  6.8284]]), tensor([[-5.6569, -2.8284,  5.6569,  2.8284],\n",
      "        [-4.0000, -4.0000,  4.0000,  4.0000],\n",
      "        [-2.8284, -5.6569,  2.8284,  5.6569]]), tensor([[-11.3137,  -5.6569,  11.3137,   5.6569],\n",
      "        [ -8.0000,  -8.0000,   8.0000,   8.0000],\n",
      "        [ -5.6569, -11.3137,   5.6569,  11.3137]]), tensor([[-22.6274, -11.3137,  22.6274,  11.3137],\n",
      "        [-16.0000, -16.0000,  16.0000,  16.0000],\n",
      "        [-11.3137, -22.6274,  11.3137,  22.6274]]), tensor([[-45.2548, -22.6274,  45.2548,  22.6274],\n",
      "        [-32.0000, -32.0000,  32.0000,  32.0000],\n",
      "        [-22.6274, -45.2548,  22.6274,  45.2548]])]\n"
     ]
    }
   ],
   "source": [
    "self = AnchorGenerator(strides = [4,8,16,32,64], ratios = [0.5, 1.0, 2.0],\n",
    "                      scales= [1], base_sizes= None)\n",
    "all_anchors1 =self.grid_priors(featmap_sizes =[(2,2),(1,1),(1,1),(1,1),(1,1)], device='cpu')\n",
    "print(all_anchors1)"
   ]
  },
  {
   "cell_type": "code",
   "execution_count": null,
   "id": "695140fb",
   "metadata": {},
   "outputs": [],
   "source": []
  },
  {
   "cell_type": "code",
   "execution_count": 102,
   "id": "53c72067",
   "metadata": {},
   "outputs": [
    {
     "name": "stdout",
     "output_type": "stream",
     "text": [
      "[(8, 8), (8, 8), (8, 8)]\n",
      "[tensor([[ -54.0000,  -41.0000,   62.0000,   49.0000],\n",
      "        [ -74.0000,  -95.0000,   82.0000,  103.0000],\n",
      "        [-182.5000, -159.0000,  190.5000,  167.0000]]), tensor([[-11.0000, -26.5000,  19.0000,  34.5000],\n",
      "        [-27.0000, -18.5000,  35.0000,  26.5000],\n",
      "        [-25.5000, -55.5000,  33.5000,  63.5000]]), tensor([[ -1.0000,  -2.5000,   9.0000,  10.5000],\n",
      "        [ -4.0000, -11.0000,  12.0000,  19.0000],\n",
      "        [-12.5000,  -7.5000,  20.5000,  15.5000]])]\n"
     ]
    }
   ],
   "source": [
    "from mmdet.core import YOLOAnchorGenerator\n",
    "base_sizes=[[(116, 90), (156, 198), (373, 326)], [(30, 61), (62, 45), (59, 119)], [(10, 13), (16, 30), (33, 23)]]\n",
    "strides=[8,8, 8]\n",
    "strides = [_pair(stride) for stride in strides]\n",
    "print(strides)\n",
    "self = YOLOAnchorGenerator(base_sizes = base_sizes, strides=strides)\n",
    "all_base_anchors = self.gen_base_anchors()\n",
    "print(all_base_anchors)"
   ]
  },
  {
   "cell_type": "code",
   "execution_count": 108,
   "id": "cc0df393",
   "metadata": {},
   "outputs": [
    {
     "name": "stdout",
     "output_type": "stream",
     "text": [
      "[(16, 16), (8, 8), (8, 8)]\n",
      "[tensor([[ -50.0000,  -37.0000,   66.0000,   53.0000],\n",
      "        [ -70.0000,  -91.0000,   86.0000,  107.0000],\n",
      "        [-178.5000, -155.0000,  194.5000,  171.0000]]), tensor([[-11.0000, -26.5000,  19.0000,  34.5000],\n",
      "        [-27.0000, -18.5000,  35.0000,  26.5000],\n",
      "        [-25.5000, -55.5000,  33.5000,  63.5000]]), tensor([[ -1.0000,  -2.5000,   9.0000,  10.5000],\n",
      "        [ -4.0000, -11.0000,  12.0000,  19.0000],\n",
      "        [-12.5000,  -7.5000,  20.5000,  15.5000]])]\n"
     ]
    }
   ],
   "source": [
    "from mmdet.core import YOLOAnchorGenerator\n",
    "base_sizes=[[(116, 90), (156, 198), (373, 326)], [(30, 61), (62, 45), (59, 119)], [(10, 13), (16, 30), (33, 23)]]\n",
    "strides=[16,8, 8]\n",
    "strides = [_pair(stride) for stride in strides]\n",
    "print(strides)\n",
    "self = YOLOAnchorGenerator(base_sizes = base_sizes, strides=strides)\n",
    "all_base_anchors = self.gen_base_anchors()\n",
    "print(all_base_anchors)"
   ]
  },
  {
   "cell_type": "code",
   "execution_count": 107,
   "id": "73991930",
   "metadata": {},
   "outputs": [
    {
     "data": {
      "text/plain": [
       "0.7878787878787878"
      ]
     },
     "execution_count": 107,
     "metadata": {},
     "output_type": "execute_result"
    }
   ],
   "source": [
    "156/198"
   ]
  },
  {
   "cell_type": "code",
   "execution_count": 106,
   "id": "57ab6454",
   "metadata": {},
   "outputs": [
    {
     "data": {
      "text/plain": [
       "0.7878787878787878"
      ]
     },
     "execution_count": 106,
     "metadata": {},
     "output_type": "execute_result"
    }
   ],
   "source": [
    "(74+82)/(95+103)"
   ]
  }
 ],
 "metadata": {
  "kernelspec": {
   "display_name": "Python 3 (ipykernel)",
   "language": "python",
   "name": "python3"
  },
  "language_info": {
   "codemirror_mode": {
    "name": "ipython",
    "version": 3
   },
   "file_extension": ".py",
   "mimetype": "text/x-python",
   "name": "python",
   "nbconvert_exporter": "python",
   "pygments_lexer": "ipython3",
   "version": "3.7.7"
  }
 },
 "nbformat": 4,
 "nbformat_minor": 5
}
