{
 "cells": [
  {
   "cell_type": "code",
   "execution_count": 53,
   "id": "36f212d5",
   "metadata": {},
   "outputs": [],
   "source": [
    "import json\n",
    "from collections import defaultdict\n",
    "from functools import reduce\n",
    "from matplotlib import pyplot as plt\n",
    "import numpy as np"
   ]
  },
  {
   "cell_type": "code",
   "execution_count": 2,
   "id": "ed061d05",
   "metadata": {},
   "outputs": [
    {
     "name": "stdout",
     "output_type": "stream",
     "text": [
      "4474\n",
      "12467\n",
      "[{'supercategory': 'Carparts', 'id': 0, 'name': 'scratch'}, {'supercategory': 'Carparts', 'id': 1, 'name': 'dent'}, {'supercategory': 'Carparts', 'id': 2, 'name': 'crack'}, {'supercategory': 'Carparts', 'id': 3, 'name': 'broken'}, {'supercategory': 'Carparts', 'id': 4, 'name': 'lamp_broken'}, {'supercategory': 'Carparts', 'id': 5, 'name': 'glass_broken'}, {'supercategory': 'Carparts', 'id': 6, 'name': 'hole'}, {'supercategory': 'Carparts', 'id': 7, 'name': 'totaled'}]\n",
      "\n",
      "{'id': 0, 'category_id': 7, 'iscrowd': 0, 'segmentation': [[1070.6824560633022, 44.40628849048852, 974.1988179824507, 44.40628849048852, 974.1988179824507, 236.48933110493087, 1070.6824560633022, 236.48933110493087]], 'image_id': 0, 'area': 18532.870765080617, 'bbox': [974.1988179824507, 44.40628849048852, 96.4836380808515, 192.08304261444235], 'bbox_mode': 1}\n",
      "\n",
      "{'id': 0, 'license': 4, 'coco_url': 'coco.org', 'flickr_url': 'flickr.org', 'task_name': 'nothing', 'url': 'https://generalide.motionscloud.com/rails/active_storage/blobs/eyJfcmFpbHMiOnsibWVzc2FnZSI6IkJBaHBBaWZaIiwiZXhwIjpudWxsLCJwdXIiOiJibG9iX2lkIn19--d73873266f7c9a92e771bd53b687624fdd30b4a8/1638867352509.jpeg', 'width': 1280, 'height': 720, 'case_id': '100189321', 'file_name': 'rear_side_left_bumper_0.jpeg', 'date_captured': '2013-12-15 02:41:52'}\n",
      "\n"
     ]
    }
   ],
   "source": [
    "data = json.load(open('/mmdetection/data/coco_datasets/datasets/generalide/17_05_2022/annotations/new_test_generali_17_05_2022.json'))\n",
    "print(len(data['images']))\n",
    "print(len(data['annotations']))\n",
    "print(data['categories'], end='\\n\\n')\n",
    "print(data['annotations'][0], end='\\n\\n')\n",
    "print(data['images'][0], end='\\n\\n')"
   ]
  },
  {
   "cell_type": "code",
   "execution_count": 3,
   "id": "eefb2853",
   "metadata": {},
   "outputs": [
    {
     "name": "stdout",
     "output_type": "stream",
     "text": [
      "number of cases:  547\n",
      "4474\n",
      "4242\n"
     ]
    }
   ],
   "source": [
    "caseid_to_img = defaultdict(list)\n",
    "img_to_anns = defaultdict(list)\n",
    "\n",
    "\n",
    "for img in data['images']:\n",
    "    caseid_to_img[img['case_id']].append(img)\n",
    "for ann in data['annotations']:\n",
    "    img_to_anns[ann['image_id']].append(ann)\n",
    "    \n",
    "print('number of cases: ', len(caseid_to_img.keys()))\n",
    "print(len(reduce(lambda x,y: x+y, list(caseid_to_img.values()))))\n",
    "\n",
    "print(len(img_to_anns.keys()))\n",
    "#nearly 200 images don't have annotations"
   ]
  },
  {
   "cell_type": "code",
   "execution_count": 4,
   "id": "6dda3f67",
   "metadata": {},
   "outputs": [],
   "source": [
    "damage_names = [cat['name'] for cat in data['categories']]\n",
    "damage_dist = {damage_name: [0]*len(data['images']) for damage_name in damage_names}\n",
    "# print(damage_dist['scratch'])\n",
    "# for caseid, imgs in caseid_to_img.items():\n",
    "for idx, img in enumerate(data['images']):\n",
    "    anns = img_to_anns[img['id']]\n",
    "    for ann in anns:\n",
    "        damage_dist[damage_names[ann['category_id']]][idx] += 1\n"
   ]
  },
  {
   "cell_type": "code",
   "execution_count": 5,
   "id": "076c1a55",
   "metadata": {},
   "outputs": [
    {
     "name": "stdout",
     "output_type": "stream",
     "text": [
      "dict_keys(['scratch', 'dent', 'crack', 'broken', 'lamp_broken', 'glass_broken', 'hole', 'totaled'])\n"
     ]
    }
   ],
   "source": [
    "print(damage_dist.keys())"
   ]
  },
  {
   "cell_type": "code",
   "execution_count": 8,
   "id": "77321a02",
   "metadata": {
    "scrolled": false
   },
   "outputs": [
    {
     "data": {
      "image/png": "[encoded data removed]",
      "text/plain": [
       "<Figure size 432x288 with 1 Axes>"
      ]
     },
     "metadata": {
      "needs_background": "light"
     },
     "output_type": "display_data"
    },
    {
     "data": {
      "text/plain": [
       "6439"
      ]
     },
     "execution_count": 8,
     "metadata": {},
     "output_type": "execute_result"
    }
   ],
   "source": [
    "plt.hist(damage_dist['scratch'],bins=max(damage_dist['scratch']),edgecolor='w')\n",
    "plt.title('distribution of no.scratch on images')\n",
    "plt.show()  \n",
    "sum(damage_dist['scratch'])"
   ]
  },
  {
   "cell_type": "code",
   "execution_count": 9,
   "id": "14d3505f",
   "metadata": {},
   "outputs": [
    {
     "data": {
      "image/png": "[encoded data removed]",
      "text/plain": [
       "<Figure size 432x288 with 1 Axes>"
      ]
     },
     "metadata": {
      "needs_background": "light"
     },
     "output_type": "display_data"
    },
    {
     "data": {
      "text/plain": [
       "2965"
      ]
     },
     "execution_count": 9,
     "metadata": {},
     "output_type": "execute_result"
    }
   ],
   "source": [
    "plt.hist(damage_dist['dent'],bins=max(damage_dist['dent']),edgecolor='w')\n",
    "plt.title('distribution of dent on images')\n",
    "plt.show()  \n",
    "sum(damage_dist['dent'])"
   ]
  },
  {
   "cell_type": "code",
   "execution_count": 10,
   "id": "251cebb8",
   "metadata": {},
   "outputs": [
    {
     "data": {
      "image/png": "[encoded data removed]",
      "text/plain": [
       "<Figure size 432x288 with 1 Axes>"
      ]
     },
     "metadata": {
      "needs_background": "light"
     },
     "output_type": "display_data"
    },
    {
     "data": {
      "text/plain": [
       "570"
      ]
     },
     "execution_count": 10,
     "metadata": {},
     "output_type": "execute_result"
    }
   ],
   "source": [
    "plt.hist(damage_dist['crack'],bins=max(damage_dist['crack']),edgecolor='w')\n",
    "plt.title('distribution of crack on images')\n",
    "plt.show()  \n",
    "sum(damage_dist['crack'])"
   ]
  },
  {
   "cell_type": "code",
   "execution_count": 11,
   "id": "f3599b55",
   "metadata": {},
   "outputs": [
    {
     "data": {
      "image/png": "[encoded data removed]",
      "text/plain": [
       "<Figure size 432x288 with 1 Axes>"
      ]
     },
     "metadata": {
      "needs_background": "light"
     },
     "output_type": "display_data"
    },
    {
     "data": {
      "text/plain": [
       "828"
      ]
     },
     "execution_count": 11,
     "metadata": {},
     "output_type": "execute_result"
    }
   ],
   "source": [
    "plt.hist(damage_dist['broken'],bins=max(damage_dist['broken']),edgecolor='w')\n",
    "plt.title('distribution of broken on images')\n",
    "plt.show()  \n",
    "sum(damage_dist['broken'])"
   ]
  },
  {
   "cell_type": "code",
   "execution_count": 12,
   "id": "f6cae816",
   "metadata": {},
   "outputs": [
    {
     "data": {
      "image/png": "[encoded data removed]",
      "text/plain": [
       "<Figure size 432x288 with 1 Axes>"
      ]
     },
     "metadata": {
      "needs_background": "light"
     },
     "output_type": "display_data"
    },
    {
     "data": {
      "text/plain": [
       "485"
      ]
     },
     "execution_count": 12,
     "metadata": {},
     "output_type": "execute_result"
    }
   ],
   "source": [
    "plt.hist(damage_dist['lamp_broken'],bins=max(damage_dist['lamp_broken']),edgecolor='w')\n",
    "plt.title('distribution of lamp_broken on images')\n",
    "plt.show()  \n",
    "sum(damage_dist['lamp_broken'])"
   ]
  },
  {
   "cell_type": "code",
   "execution_count": 13,
   "id": "1c7a905d",
   "metadata": {},
   "outputs": [
    {
     "data": {
      "image/png": "[encoded data removed]",
      "text/plain": [
       "<Figure size 432x288 with 1 Axes>"
      ]
     },
     "metadata": {
      "needs_background": "light"
     },
     "output_type": "display_data"
    },
    {
     "data": {
      "text/plain": [
       "81"
      ]
     },
     "execution_count": 13,
     "metadata": {},
     "output_type": "execute_result"
    }
   ],
   "source": [
    "plt.hist(damage_dist['glass_broken'],bins=max(damage_dist['glass_broken']),edgecolor='w')\n",
    "plt.title('distribution of glass_broken on images')\n",
    "plt.show()  \n",
    "sum(damage_dist['glass_broken'])"
   ]
  },
  {
   "cell_type": "code",
   "execution_count": 14,
   "id": "71075c9a",
   "metadata": {},
   "outputs": [
    {
     "data": {
      "text/plain": [
       "0"
      ]
     },
     "execution_count": 14,
     "metadata": {},
     "output_type": "execute_result"
    }
   ],
   "source": [
    "# plt.hist(damage_dist['hole'],bins=max(damage_dist['hole']),edgecolor='w')\n",
    "# plt.title('distribution of hole on images')\n",
    "# plt.show()  \n",
    "sum(damage_dist['hole'])"
   ]
  },
  {
   "cell_type": "code",
   "execution_count": 15,
   "id": "81615207",
   "metadata": {},
   "outputs": [
    {
     "data": {
      "image/png": "[encoded data removed]",
      "text/plain": [
       "<Figure size 432x288 with 1 Axes>"
      ]
     },
     "metadata": {
      "needs_background": "light"
     },
     "output_type": "display_data"
    },
    {
     "data": {
      "text/plain": [
       "1099"
      ]
     },
     "execution_count": 15,
     "metadata": {},
     "output_type": "execute_result"
    }
   ],
   "source": [
    "plt.hist(damage_dist['totaled'],bins=max(damage_dist['totaled']),edgecolor='w')\n",
    "plt.title('distribution of totaled on images')\n",
    "plt.show()  \n",
    "sum(damage_dist['totaled'])"
   ]
  },
  {
   "cell_type": "code",
   "execution_count": 68,
   "id": "a905ec13",
   "metadata": {},
   "outputs": [
    {
     "data": {
      "image/png": "[encoded data removed]",
      "text/plain": [
       "<Figure size 432x288 with 1 Axes>"
      ]
     },
     "metadata": {
      "needs_background": "light"
     },
     "output_type": "display_data"
    }
   ],
   "source": [
    "x = list(range(8))\n",
    "y = [sum(vals) for key, vals in damage_dist.items()]\n",
    "plt.bar(damage_names, y)\n",
    "plt.xticks(rotation=(30))\n",
    "# for i, v in enumerate(y):\n",
    "#     plt.text(v + 3, i + \n",
    "#              25, str(v), color='blue', fontweight='bold')\n",
    "\n",
    "plt.ylabel('number of damages')\n",
    "plt.title('distribution of number of damages in the dataset')\n",
    "plt.show()"
   ]
  },
  {
   "cell_type": "markdown",
   "id": "96090a3f",
   "metadata": {},
   "source": [
    "## determine outliers"
   ]
  },
  {
   "cell_type": "code",
   "execution_count": 47,
   "id": "a5a90da4",
   "metadata": {},
   "outputs": [
    {
     "name": "stdout",
     "output_type": "stream",
     "text": [
      "number of types of crack damages 5\n"
     ]
    }
   ],
   "source": [
    "crack_subcat_names = ['crack', 'broken', 'lamp_broken', 'glass_broken', 'hole']\n",
    "def create_img_to_damage_mapping():\n",
    "    mapping_list = []\n",
    "    for cls in crack_subcat_names:\n",
    "        mapping_name = 'imgTo' + str(cls)\n",
    "        locals()[mapping_name] = defaultdict(list)\n",
    "        for ann in data['annotations']:\n",
    "            if ann['category_id'] >=2 and ann['category_id'] <=6:\n",
    "                \n",
    "                if crack_subcat_names[ann['category_id']-2] == str(cls):\n",
    "                    locals()[mapping_name][ann['image_id']].append(ann)\n",
    "        mapping_list.append(locals()[mapping_name])\n",
    "    return mapping_list\n",
    "crack_mapping_list = create_img_to_damage_mapping()\n",
    "print('number of types of crack damages', len(crack_mapping_list))"
   ]
  },
  {
   "cell_type": "code",
   "execution_count": 91,
   "id": "1bd5a841",
   "metadata": {},
   "outputs": [
    {
     "name": "stdout",
     "output_type": "stream",
     "text": [
      "number of types of damages 8\n"
     ]
    }
   ],
   "source": [
    "def create_img_to_damage_mapping():\n",
    "    mapping_list = []\n",
    "    for cls in damage_names:\n",
    "        mapping_name = 'imgTo' + str(cls)\n",
    "        locals()[mapping_name] = defaultdict(list)\n",
    "        for ann in data['annotations']:\n",
    "            if damage_names[ann['category_id']] == str(cls):\n",
    "                locals()[mapping_name][ann['image_id']].append(ann)\n",
    "        mapping_list.append(locals()[mapping_name])\n",
    "    return mapping_list\n",
    "damage_mapping_list = create_img_to_damage_mapping()\n",
    "print('number of types of damages', len(damage_mapping_list))"
   ]
  },
  {
   "cell_type": "code",
   "execution_count": 92,
   "id": "e6b872d1",
   "metadata": {},
   "outputs": [
    {
     "data": {
      "text/plain": [
       "['scratch',\n",
       " 'dent',\n",
       " 'crack',\n",
       " 'broken',\n",
       " 'lamp_broken',\n",
       " 'glass_broken',\n",
       " 'hole',\n",
       " 'totaled']"
      ]
     },
     "execution_count": 92,
     "metadata": {},
     "output_type": "execute_result"
    }
   ],
   "source": [
    "damage_names"
   ]
  },
  {
   "cell_type": "code",
   "execution_count": 101,
   "id": "7bed2368",
   "metadata": {},
   "outputs": [],
   "source": [
    "total_scratch = damage_mapping_list[damage_names.index('scratch')]\n",
    "total_dent = damage_mapping_list[damage_names.index('dent')]\n",
    "total_totaled = damage_mapping_list[damage_names.index('totaled')]\n",
    "\n",
    "total_crack = damage_mapping_list[damage_names.index('crack')]\n",
    "total_broken = damage_mapping_list[damage_names.index('broken')]\n",
    "total_lamp_broken = damage_mapping_list[damage_names.index('lamp_broken')]\n",
    "total_glass_broken = damage_mapping_list[damage_names.index('glass_broken')]\n",
    "total_hole = damage_mapping_list[damage_names.index('hole')]"
   ]
  },
  {
   "cell_type": "code",
   "execution_count": 102,
   "id": "283829e9",
   "metadata": {},
   "outputs": [
    {
     "name": "stdout",
     "output_type": "stream",
     "text": [
      "2872\n",
      "2178\n",
      "891\n",
      "465\n",
      "698\n",
      "80\n",
      "469\n",
      "0\n"
     ]
    }
   ],
   "source": [
    "print(len(total_scratch.keys()))\n",
    "print(len(total_dent.keys()))\n",
    "print(len(total_totaled.keys()))\n",
    "\n",
    "\n",
    "print(len(total_crack.keys()))\n",
    "print(len(total_broken.keys()))\n",
    "print(len(total_glass_broken.keys()))\n",
    "print(len(total_lamp_broken.keys()))\n",
    "print(len(total_hole.keys()))"
   ]
  },
  {
   "cell_type": "code",
   "execution_count": 111,
   "id": "141446b4",
   "metadata": {},
   "outputs": [],
   "source": [
    "def get_img_area(img_id, data):\n",
    "    for img in data['images']:\n",
    "        if img['id']==img_id:\n",
    "            img_area = img['height']*img['width']\n",
    "            break\n",
    "    return img_area\n",
    "\n",
    "def determine_damage_outliers(damage_dict, lower_thres, upper_thres):\n",
    "    damage_img_ratio = []\n",
    "    large_damage = defaultdict(list)\n",
    "    tiny_damage = defaultdict(list)\n",
    "    for img_id, damage_anns in damage_dict.items():\n",
    "        for damage_ann in damage_anns:\n",
    "            damage_area = max(damage_ann['bbox'][2] * damage_ann['bbox'][3], 1e-5)\n",
    "            ratio = damage_area/get_img_area(img_id, data)\n",
    "            damage_img_ratio.append(ratio)\n",
    "            if ratio > upper_thres:\n",
    "                large_damage[img_id].append(damage_ann)\n",
    "            elif ratio < lower_thres:\n",
    "                tiny_damage[img_id].append(damage_ann)\n",
    "    return damage_img_ratio, large_damage, tiny_damage\n",
    "def flatten_list(dict_list):\n",
    "    if len(dict_list.values()) == 0:\n",
    "        return []\n",
    "    return reduce(lambda x,y: x+y, list(dict_list.values()))"
   ]
  },
  {
   "cell_type": "markdown",
   "id": "7c75dce7",
   "metadata": {},
   "source": [
    "### Crack"
   ]
  },
  {
   "cell_type": "code",
   "execution_count": 115,
   "id": "ce069541",
   "metadata": {},
   "outputs": [
    {
     "name": "stdout",
     "output_type": "stream",
     "text": [
      "number of tiny crack annos: 53 \"\n",
      "\" number of large crack annos: 4\n",
      "total crack annos: 570\n"
     ]
    },
    {
     "data": {
      "image/png": "[encoded data removed]",
      "text/plain": [
       "<Figure size 432x288 with 1 Axes>"
      ]
     },
     "metadata": {
      "needs_background": "light"
     },
     "output_type": "display_data"
    }
   ],
   "source": [
    "crack_img_ratio, large_crack, tiny_crack = determine_damage_outliers(total_crack,np.exp(-8.5), 0.2)\n",
    "print('number of tiny crack annos: {} \"\\n\" number of large crack annos: {}'.format(len(flatten_list(tiny_crack)), len(flatten_list(large_crack))))\n",
    "print('total crack annos: {}'.format(len(flatten_list(total_crack))))\n",
    "\n",
    "plt.hist([ratio for ratio in crack_img_ratio if ratio <0.2], bins=100, edgecolor='w')\n",
    "plt.show()"
   ]
  },
  {
   "cell_type": "code",
   "execution_count": 88,
   "id": "60cd16e5",
   "metadata": {},
   "outputs": [
    {
     "data": {
      "text/plain": [
       "[<matplotlib.lines.Line2D at 0x7f61bb95b520>]"
      ]
     },
     "execution_count": 88,
     "metadata": {},
     "output_type": "execute_result"
    },
    {
     "data": {
      "image/png": "[encoded data removed]",
      "text/plain": [
       "<Figure size 432x288 with 1 Axes>"
      ]
     },
     "metadata": {
      "needs_background": "light"
     },
     "output_type": "display_data"
    }
   ],
   "source": [
    "plt.plot(crack_img_ratio)"
   ]
  },
  {
   "cell_type": "markdown",
   "id": "fc8ea692",
   "metadata": {},
   "source": [
    "### Broken"
   ]
  },
  {
   "cell_type": "code",
   "execution_count": 86,
   "id": "77c2bc32",
   "metadata": {},
   "outputs": [
    {
     "name": "stdout",
     "output_type": "stream",
     "text": [
      "number of tiny broken annos: 8 \"\n",
      "\" number of large broken annos: 134\n",
      "total broken annos: 828\n"
     ]
    },
    {
     "data": {
      "image/png": "[encoded data removed]",
      "text/plain": [
       "<Figure size 432x288 with 1 Axes>"
      ]
     },
     "metadata": {
      "needs_background": "light"
     },
     "output_type": "display_data"
    }
   ],
   "source": [
    "broken_img_ratio, large_broken, tiny_broken = determine_damage_outliers(total_broken,np.exp(-8.5), 0.1)\n",
    "print('number of tiny broken annos: {} \"\\n\" number of large broken annos: {}'.format(len(flatten_list(tiny_broken)), len(flatten_list(large_broken))))\n",
    "print('total broken annos: {}'.format(len(flatten_list(total_broken))))\n",
    "\n",
    "plt.hist([broken_img_ratio], bins=100, edgecolor='w')\n",
    "plt.show()"
   ]
  },
  {
   "cell_type": "markdown",
   "id": "161d4652",
   "metadata": {},
   "source": [
    "### Lamp_broken"
   ]
  },
  {
   "cell_type": "code",
   "execution_count": 87,
   "id": "d80b3b04",
   "metadata": {},
   "outputs": [
    {
     "name": "stdout",
     "output_type": "stream",
     "text": [
      "number of tiny lamp_broken annos: 2 \"\n",
      "\" number of large lamp_broken annos: 99\n",
      "total lamp_broken annos: 485\n"
     ]
    },
    {
     "data": {
      "image/png": "[encoded data removed]",
      "text/plain": [
       "<Figure size 432x288 with 1 Axes>"
      ]
     },
     "metadata": {
      "needs_background": "light"
     },
     "output_type": "display_data"
    }
   ],
   "source": [
    "lamp_broken_img_ratio, large_lamp_broken, tiny_lamp_broken = determine_damage_outliers(total_lamp_broken,np.exp(-8.5), 0.1)\n",
    "print('number of tiny lamp_broken annos: {} \"\\n\" number of large lamp_broken annos: {}'.format(len(flatten_list(tiny_lamp_broken)), len(flatten_list(large_lamp_broken))))\n",
    "print('total lamp_broken annos: {}'.format(len(flatten_list(total_lamp_broken))))\n",
    "\n",
    "plt.hist(lamp_broken_img_ratio, bins=100, edgecolor='w')\n",
    "plt.show()"
   ]
  },
  {
   "cell_type": "markdown",
   "id": "44db110f",
   "metadata": {},
   "source": [
    "### Scratch"
   ]
  },
  {
   "cell_type": "code",
   "execution_count": 109,
   "id": "72b0b19a",
   "metadata": {},
   "outputs": [
    {
     "name": "stdout",
     "output_type": "stream",
     "text": [
      "number of tiny scratch annos: 536 \n",
      "number of large scratch annos: 596\n",
      "total scratch annos: 6439\n"
     ]
    },
    {
     "data": {
      "image/png": "[encoded data removed]",
      "text/plain": [
       "<Figure size 432x288 with 1 Axes>"
      ]
     },
     "metadata": {
      "needs_background": "light"
     },
     "output_type": "display_data"
    }
   ],
   "source": [
    "scratch_img_ratio, large_scratch, tiny_scratch = determine_damage_outliers(total_scratch,np.exp(-8.5), 0.1)\n",
    "print('number of tiny scratch annos: {} \\nnumber of large scratch annos: {}'.format(len(flatten_list(tiny_scratch)), len(flatten_list(large_scratch))))\n",
    "print('total scratch annos: {}'.format(len(flatten_list(total_scratch))))\n",
    "\n",
    "plt.hist([ratio for ratio in scratch_img_ratio if ratio<0.2], bins=100, edgecolor='w')\n",
    "plt.show()"
   ]
  },
  {
   "cell_type": "markdown",
   "id": "facf8ea5",
   "metadata": {},
   "source": [
    "### Dent"
   ]
  },
  {
   "cell_type": "code",
   "execution_count": 112,
   "id": "98ea40a7",
   "metadata": {},
   "outputs": [
    {
     "name": "stdout",
     "output_type": "stream",
     "text": [
      "number of tiny dent annos: 90 \n",
      "number of large dent annos: 0\n",
      "total dent annos: 2965\n"
     ]
    },
    {
     "data": {
      "image/png": "[encoded data removed]",
      "text/plain": [
       "<Figure size 432x288 with 1 Axes>"
      ]
     },
     "metadata": {
      "needs_background": "light"
     },
     "output_type": "display_data"
    }
   ],
   "source": [
    "dent_img_ratio, large_dent, tiny_dent = determine_damage_outliers(total_dent,np.exp(-7.5), 1)\n",
    "print('number of tiny dent annos: {} \\nnumber of large dent annos: {}'.format(len(flatten_list(tiny_dent)), len(flatten_list(large_dent))))\n",
    "print('total dent annos: {}'.format(len(flatten_list(total_dent))))\n",
    "\n",
    "plt.hist([ratio for ratio in dent_img_ratio if ratio<0.4], bins=100, edgecolor='w')\n",
    "plt.show()"
   ]
  },
  {
   "cell_type": "markdown",
   "id": "acb48cef",
   "metadata": {},
   "source": [
    "### Totaled"
   ]
  },
  {
   "cell_type": "code",
   "execution_count": 114,
   "id": "6a39b1ab",
   "metadata": {},
   "outputs": [
    {
     "name": "stdout",
     "output_type": "stream",
     "text": [
      "number of tiny totaled annos: 0 \n",
      "number of large totaled annos: 0\n",
      "total totaled annos: 1099\n"
     ]
    },
    {
     "data": {
      "image/png": "[encoded data removed]",
      "text/plain": [
       "<Figure size 432x288 with 1 Axes>"
      ]
     },
     "metadata": {
      "needs_background": "light"
     },
     "output_type": "display_data"
    }
   ],
   "source": [
    "totaled_img_ratio, large_totaled, tiny_totaled = determine_damage_outliers(total_totaled,np.exp(-10), 1)\n",
    "print('number of tiny totaled annos: {} \\nnumber of large totaled annos: {}'.format(len(flatten_list(tiny_totaled)), len(flatten_list(large_totaled))))\n",
    "print('total totaled annos: {}'.format(len(flatten_list(total_totaled))))\n",
    "\n",
    "plt.hist([ratio for ratio in totaled_img_ratio if ratio<0.4], bins=100, edgecolor='w')\n",
    "plt.show()"
   ]
  }
 ],
 "metadata": {
  "kernelspec": {
   "display_name": "Python 3 (ipykernel)",
   "language": "python",
   "name": "python3"
  },
  "language_info": {
   "codemirror_mode": {
    "name": "ipython",
    "version": 3
   },
   "file_extension": ".py",
   "mimetype": "text/x-python",
   "name": "python",
   "nbconvert_exporter": "python",
   "pygments_lexer": "ipython3",
   "version": "3.8.8"
  }
 },
 "nbformat": 4,
 "nbformat_minor": 5
}
