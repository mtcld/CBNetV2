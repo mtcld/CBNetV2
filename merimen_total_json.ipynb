{
 "cells": [
  {
   "cell_type": "code",
   "execution_count": 1,
   "id": "de0f1515",
   "metadata": {},
   "outputs": [],
   "source": [
    "%matplotlib inline\n",
    "from pycocotools.coco import COCO\n",
    "import numpy as np\n",
    "import skimage.io as io\n",
    "import matplotlib.pyplot as plt\n",
    "import pylab\n",
    "pylab.rcParams['figure.figsize'] = (8.0, 10.0)\n",
    "import cv2\n",
    "from pycocotools import mask\n",
    "import pandas as pd"
   ]
  },
  {
   "cell_type": "code",
   "execution_count": 6,
   "id": "f4c07a3f",
   "metadata": {},
   "outputs": [
    {
     "name": "stdout",
     "output_type": "stream",
     "text": [
      "/mmdetection\r\n"
     ]
    }
   ],
   "source": [
    "!pwd\n",
    "!cd demo\n"
   ]
  },
  {
   "cell_type": "code",
   "execution_count": 7,
   "id": "9d186568",
   "metadata": {},
   "outputs": [
    {
     "name": "stdout",
     "output_type": "stream",
     "text": [
      "/mmdetection\r\n"
     ]
    }
   ],
   "source": [
    "!pwd"
   ]
  },
  {
   "cell_type": "code",
   "execution_count": 2,
   "id": "89005cd8",
   "metadata": {},
   "outputs": [
    {
     "name": "stdout",
     "output_type": "stream",
     "text": [
      "loading annotations into memory...\n"
     ]
    },
    {
     "ename": "FileNotFoundError",
     "evalue": "[Errno 2] No such file or directory: '../data/coco_datasets/datasets/merimen_coco/19_02_2022/scratch/annotations/total.json'",
     "output_type": "error",
     "traceback": [
      "\u001b[0;31m---------------------------------------------------------------------------\u001b[0m",
      "\u001b[0;31mFileNotFoundError\u001b[0m                         Traceback (most recent call last)",
      "Input \u001b[0;32mIn [2]\u001b[0m, in \u001b[0;36m<cell line: 5>\u001b[0;34m()\u001b[0m\n\u001b[1;32m      2\u001b[0m dataType\u001b[38;5;241m=\u001b[39m\u001b[38;5;124m'\u001b[39m\u001b[38;5;124mtotal\u001b[39m\u001b[38;5;124m'\u001b[39m\n\u001b[1;32m      3\u001b[0m annFile\u001b[38;5;241m=\u001b[39m\u001b[38;5;124m'\u001b[39m\u001b[38;5;132;01m{}\u001b[39;00m\u001b[38;5;124m/scratch/annotations/\u001b[39m\u001b[38;5;132;01m{}\u001b[39;00m\u001b[38;5;124m.json\u001b[39m\u001b[38;5;124m'\u001b[39m\u001b[38;5;241m.\u001b[39mformat(dataDir,dataType)\n\u001b[0;32m----> 5\u001b[0m coco\u001b[38;5;241m=\u001b[39m\u001b[43mCOCO\u001b[49m\u001b[43m(\u001b[49m\u001b[43mannFile\u001b[49m\u001b[43m)\u001b[49m\n",
      "File \u001b[0;32m/opt/conda/lib/python3.8/site-packages/pycocotools/coco.py:84\u001b[0m, in \u001b[0;36mCOCO.__init__\u001b[0;34m(self, annotation_file)\u001b[0m\n\u001b[1;32m     82\u001b[0m \u001b[38;5;28mprint\u001b[39m(\u001b[38;5;124m'\u001b[39m\u001b[38;5;124mloading annotations into memory...\u001b[39m\u001b[38;5;124m'\u001b[39m)\n\u001b[1;32m     83\u001b[0m tic \u001b[38;5;241m=\u001b[39m time\u001b[38;5;241m.\u001b[39mtime()\n\u001b[0;32m---> 84\u001b[0m \u001b[38;5;28;01mwith\u001b[39;00m \u001b[38;5;28;43mopen\u001b[39;49m\u001b[43m(\u001b[49m\u001b[43mannotation_file\u001b[49m\u001b[43m,\u001b[49m\u001b[43m \u001b[49m\u001b[38;5;124;43m'\u001b[39;49m\u001b[38;5;124;43mr\u001b[39;49m\u001b[38;5;124;43m'\u001b[39;49m\u001b[43m)\u001b[49m \u001b[38;5;28;01mas\u001b[39;00m f:\n\u001b[1;32m     85\u001b[0m     dataset \u001b[38;5;241m=\u001b[39m json\u001b[38;5;241m.\u001b[39mload(f)\n\u001b[1;32m     86\u001b[0m \u001b[38;5;28;01massert\u001b[39;00m \u001b[38;5;28mtype\u001b[39m(dataset)\u001b[38;5;241m==\u001b[39m\u001b[38;5;28mdict\u001b[39m, \u001b[38;5;124m'\u001b[39m\u001b[38;5;124mannotation file format \u001b[39m\u001b[38;5;132;01m{}\u001b[39;00m\u001b[38;5;124m not supported\u001b[39m\u001b[38;5;124m'\u001b[39m\u001b[38;5;241m.\u001b[39mformat(\u001b[38;5;28mtype\u001b[39m(dataset))\n",
      "\u001b[0;31mFileNotFoundError\u001b[0m: [Errno 2] No such file or directory: '../data/coco_datasets/datasets/merimen_coco/19_02_2022/scratch/annotations/total.json'"
     ]
    }
   ],
   "source": [
    "dataDir='../data/coco_datasets/datasets/merimen_coco/19_02_2022'\n",
    "dataType='total'\n",
    "annFile='{}/scratch/annotations/{}.json'.format(dataDir,dataType)\n",
    "\n",
    "coco=COCO(annFile)\n"
   ]
  },
  {
   "cell_type": "code",
   "execution_count": null,
   "id": "430ff9a4",
   "metadata": {},
   "outputs": [],
   "source": [
    "print(len(coco.anns), len(coco.imgs))"
   ]
  },
  {
   "cell_type": "code",
   "execution_count": null,
   "id": "13259857",
   "metadata": {},
   "outputs": [],
   "source": [
    "# display COCO categories and supercategories\n",
    "cats = coco.loadCats(coco.getCatIds())\n",
    "print((cats))\n",
    "nms=[cat['name'] for cat in cats]\n",
    "print(nms)\n",
    "print('COCO categories: \\n{}\\n'.format(' '.join(nms)))\n",
    "\n",
    "nms = set([cat['supercategory'] for cat in cats])\n",
    "print('COCO supercategories: \\n{}'.format(' '.join(nms)))"
   ]
  },
  {
   "cell_type": "code",
   "execution_count": null,
   "id": "eb5642b4",
   "metadata": {},
   "outputs": [],
   "source": [
    "# get all images containing given categories, select one at random\n",
    "catIds = coco.getCatIds(catNms=['scratch']);\n",
    "imgIds = coco.getImgIds(catIds=catIds );\n",
    "imgIds = coco.getImgIds(imgIds = [5519])\n",
    "img = coco.loadImgs(imgIds[np.random.randint(0,len(imgIds))])[0]\n",
    "print(img)"
   ]
  },
  {
   "cell_type": "code",
   "execution_count": null,
   "id": "730d7f99",
   "metadata": {},
   "outputs": [],
   "source": [
    "I = io.imread('%s/data/coco_datasets/datasets/merimen_coco/19_02_2022/scratch/images/%s'%(dataDir,img['file_name']))\n",
    "# use url to load image\n",
    "# I = io.imread(img['scalabel_url'])\n",
    "plt.axis('off')\n",
    "plt.imshow(I)\n",
    "plt.show()"
   ]
  },
  {
   "cell_type": "code",
   "execution_count": null,
   "id": "701e495f",
   "metadata": {},
   "outputs": [],
   "source": [
    "# load and display instance annotations\n",
    "plt.imshow(I); plt.axis('off')\n",
    "annIds = coco.getAnnIds(imgIds=img['id'], catIds=catIds, iscrowd=None)\n",
    "anns = coco.loadAnns(annIds)\n",
    "coco.showAnns(anns)"
   ]
  },
  {
   "cell_type": "code",
   "execution_count": null,
   "id": "0c38d295",
   "metadata": {},
   "outputs": [],
   "source": [
    "coco.areas_seg = {}\n",
    "coco.areas_bbox = {}\n",
    "coco.mask_box_ratio = {}\n",
    "coco.mask_image_ratio = {}\n",
    "coco.box_image_ratio = {}\n",
    "\n",
    "def compute_area(seg):\n",
    "    seg = np.array(seg).reshape(-1,2).astype(np.int32)\n",
    "    area = cv2.contourArea(seg)\n",
    "    if area == 0:\n",
    "        area = 1e-5\n",
    "    return area\n",
    "\n",
    "for ann in coco.dataset['annotations']:\n",
    "    if ann['image_id'] == 5519:\n",
    "        print(compute_area(ann['segmentation']))    \n",
    "\n",
    "for ann in coco.dataset['annotations']:\n",
    "    coco.areas_seg[ann['id']] = compute_area(ann['segmentation'])\n",
    "    coco.areas_bbox[ann['id']] = ann['bbox'][2] * ann['bbox'][3] if ann['bbox'][2] * ann['bbox'][3] > 0 else 1e-5\n",
    "    \n",
    "    for img in coco.dataset['images']:\n",
    "        if ann['image_id'] == img['id']:\n",
    "            img_area = img['width'] * img['height']\n",
    "    \n",
    "    coco.mask_box_ratio[ann['id']] = coco.areas_seg[ann['id']]/coco.areas_bbox[ann['id']]\n",
    "    coco.mask_image_ratio[ann['id']] = coco.areas_seg[ann['id']]/img_area\n",
    "    coco.box_image_ratio[ann['id']] = coco.areas_bbox[ann['id']]/img_area\n",
    "\n"
   ]
  },
  {
   "cell_type": "code",
   "execution_count": null,
   "id": "310e312b",
   "metadata": {},
   "outputs": [],
   "source": [
    "print(coco.areas_seg[5519], coco.areas_bbox[5519])\n",
    "print(len(coco.areas_seg), len(coco.areas_bbox))\n"
   ]
  },
  {
   "cell_type": "code",
   "execution_count": null,
   "id": "5f5d1ff6",
   "metadata": {},
   "outputs": [],
   "source": [
    "data_mask_box = [mask_box_ratio for mask_box_ratio in coco.mask_box_ratio.values()]\n",
    "n , bins,_ =plt.hist(data_mask_box, label='mask_box', bins=50, edgecolor = 'w')\n",
    "print(n)\n",
    "print(bins)"
   ]
  },
  {
   "cell_type": "code",
   "execution_count": null,
   "id": "bf0157ef",
   "metadata": {},
   "outputs": [],
   "source": [
    "data_mask_img = [mask_img for mask_img in coco.mask_image_ratio.values()]\n",
    "plt.hist([i for i in data_mask_img if i > 8.20158310e-08 and i <3.63267063e-02 ], 100, edgecolor = 'w')"
   ]
  },
  {
   "cell_type": "code",
   "execution_count": null,
   "id": "c3190e7c",
   "metadata": {},
   "outputs": [],
   "source": [
    "data_box_img = [box_img for box_img in coco.box_image_ratio]\n",
    "plt.hist(data_box_img, 100, edgecolor='w')"
   ]
  },
  {
   "cell_type": "code",
   "execution_count": null,
   "id": "cdb3129b",
   "metadata": {},
   "outputs": [],
   "source": [
    "df_data = pd.DataFrame({'annotation_id': coco.areas_seg.keys(),'area_seg': coco.areas_seg.values(), 'area_bbox': coco.areas_bbox.values(), \n",
    "                        'mask_box_ratio': coco.mask_box_ratio.values(),'mask_image_ratio': coco.mask_image_ratio.values(),\n",
    "                       'box_image_ratio': coco.box_image_ratio.values()})\n",
    "df_data[\"area_bin\"] = pd.cut(df_data[\"area_seg\"],\n",
    "                bins=[0, 32**2, 96**2, df_data[\"area_seg\"].max()],\n",
    "                labels=[\"Small\", \"Medium\", \"Large\"])"
   ]
  },
  {
   "cell_type": "code",
   "execution_count": null,
   "id": "67c70f3a",
   "metadata": {},
   "outputs": [],
   "source": [
    "df_data"
   ]
  },
  {
   "cell_type": "code",
   "execution_count": null,
   "id": "edcac398",
   "metadata": {},
   "outputs": [],
   "source": [
    "df_data.to_csv('../data/coco_datasets/datasets/merimen_coco/19_02_2022/scratch/total_json_report.csv')\n"
   ]
  },
  {
   "cell_type": "code",
   "execution_count": null,
   "id": "09891930",
   "metadata": {},
   "outputs": [],
   "source": [
    "df_data.hist()"
   ]
  },
  {
   "cell_type": "code",
   "execution_count": null,
   "id": "e74cf3e8",
   "metadata": {},
   "outputs": [],
   "source": []
  },
  {
   "cell_type": "code",
   "execution_count": null,
   "id": "629a7a8b",
   "metadata": {},
   "outputs": [],
   "source": []
  },
  {
   "cell_type": "code",
   "execution_count": null,
   "id": "63554247",
   "metadata": {},
   "outputs": [],
   "source": []
  }
 ],
 "metadata": {
  "kernelspec": {
   "display_name": "Python 3 (ipykernel)",
   "language": "python",
   "name": "python3"
  },
  "language_info": {
   "codemirror_mode": {
    "name": "ipython",
    "version": 3
   },
   "file_extension": ".py",
   "mimetype": "text/x-python",
   "name": "python",
   "nbconvert_exporter": "python",
   "pygments_lexer": "ipython3",
   "version": "3.8.8"
  }
 },
 "nbformat": 4,
 "nbformat_minor": 5
}
